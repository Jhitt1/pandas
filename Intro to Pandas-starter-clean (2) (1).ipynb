{
 "cells": [
  {
   "cell_type": "markdown",
   "metadata": {},
   "source": [
    "<strong>NumPy</strong>\n",
    "-- Foundational data structure, in Python, and powerful tool in which other powerful tools are built upon, such as SciPy, Matplotlib, Pandas, Scikit-Learn and more.\n",
    "* Low level data structure(np.array)\n",
    "* Large multidimensional arrays and matrices\n",
    "* Wide range of mathematical operations can be performed on data structures\n",
    "* `import numpy as np`\n",
    "\n",
    "<strong>Pandas</strong>\n",
    "-- Python library which provides high performance easy to use data structures and data analysis tools. Runs on top of NumPy (NumPy is a dependency of Pandas), so if you type `conda install pandas` in your terminal NumPy will also install automatically. Popular for data science, financial modeling, statistics, etc. \n",
    "* High level data structure (dataframes)\n",
    "* More suited for dealing with `tabular` data (spreadsheets)\n",
    "* Data alignment, fills in missing data, makes date friendlier to work with, etc.\n",
    "* `import pandas as pd`\n",
    "\n",
    "<strong>Comblined</strong>\n",
    "* Use NumPy's calculation capabilities with Pandas' data structuring models to yield powerful and visual results"
   ]
  },
  {
   "cell_type": "markdown",
   "metadata": {},
   "source": [
    "### Import packages"
   ]
  },
  {
   "cell_type": "code",
   "execution_count": 1,
   "metadata": {},
   "outputs": [],
   "source": [
    "import pandas as pd\n",
    "import numpy as np"
   ]
  },
  {
   "cell_type": "markdown",
   "metadata": {},
   "source": [
    "### Create dataframe"
   ]
  },
  {
   "cell_type": "code",
   "execution_count": 2,
   "metadata": {
    "scrolled": true
   },
   "outputs": [
    {
     "name": "stdout",
     "output_type": "stream",
     "text": [
      "{'id': 1, 'first_name': 'Lucas', 'last_name': 'Lang'}\n",
      "{'id': 2, 'first_name': 'Joel', 'last_name': 'Carter'}\n"
     ]
    }
   ],
   "source": [
    "user_dataframe = [\n",
    "    {\n",
    "        'id': 1,\n",
    "        'first_name': 'Lucas',\n",
    "        'last_name': 'Lang'\n",
    "    },\n",
    "    {\n",
    "        'id': 2,\n",
    "        'first_name': 'Joel',\n",
    "        'last_name': 'Carter'\n",
    "    },\n",
    "]\n",
    "\n",
    "for i in user_dataframe:\n",
    "    print(i)"
   ]
  },
  {
   "cell_type": "code",
   "execution_count": 3,
   "metadata": {},
   "outputs": [],
   "source": [
    "data = [\n",
    "    ['Student A', 'Standard', 92, 54, 88, 56, 99],\n",
    "    ['Student B', 'Pre-AP', 65, 87, 67, 98, 55],\n",
    "    ['Student C', 'Standard', 82, 84, 58, 6, 59],\n",
    "    ['Student D', 'Pre-AP', 99, 99, 99, 99, 99],\n",
    "    ['Student E', 'Standard', 100, 100, 100, 100, 100],\n",
    "    ['Student F', 'AP', 75, 79, 83, 81, 80]\n",
    "]"
   ]
  },
  {
   "cell_type": "code",
   "execution_count": 4,
   "metadata": {},
   "outputs": [],
   "source": [
    "df = pd.DataFrame(\n",
    "    data=data,\n",
    "    index=list(range(len(data))),\n",
    "    columns=['Name', 'Class Type', 'Quiz 1', 'Quiz_2', 'Quiz 3', 'Quiz 4', 'Quiz 5']\n",
    ")"
   ]
  },
  {
   "cell_type": "code",
   "execution_count": 5,
   "metadata": {},
   "outputs": [
    {
     "data": {
      "text/html": [
       "<div>\n",
       "<style scoped>\n",
       "    .dataframe tbody tr th:only-of-type {\n",
       "        vertical-align: middle;\n",
       "    }\n",
       "\n",
       "    .dataframe tbody tr th {\n",
       "        vertical-align: top;\n",
       "    }\n",
       "\n",
       "    .dataframe thead th {\n",
       "        text-align: right;\n",
       "    }\n",
       "</style>\n",
       "<table border=\"1\" class=\"dataframe\">\n",
       "  <thead>\n",
       "    <tr style=\"text-align: right;\">\n",
       "      <th></th>\n",
       "      <th>Name</th>\n",
       "      <th>Class Type</th>\n",
       "      <th>Quiz 1</th>\n",
       "      <th>Quiz_2</th>\n",
       "      <th>Quiz 3</th>\n",
       "      <th>Quiz 4</th>\n",
       "      <th>Quiz 5</th>\n",
       "    </tr>\n",
       "  </thead>\n",
       "  <tbody>\n",
       "    <tr>\n",
       "      <th>0</th>\n",
       "      <td>Student A</td>\n",
       "      <td>Standard</td>\n",
       "      <td>92</td>\n",
       "      <td>54</td>\n",
       "      <td>88</td>\n",
       "      <td>56</td>\n",
       "      <td>99</td>\n",
       "    </tr>\n",
       "    <tr>\n",
       "      <th>1</th>\n",
       "      <td>Student B</td>\n",
       "      <td>Pre-AP</td>\n",
       "      <td>65</td>\n",
       "      <td>87</td>\n",
       "      <td>67</td>\n",
       "      <td>98</td>\n",
       "      <td>55</td>\n",
       "    </tr>\n",
       "    <tr>\n",
       "      <th>2</th>\n",
       "      <td>Student C</td>\n",
       "      <td>Standard</td>\n",
       "      <td>82</td>\n",
       "      <td>84</td>\n",
       "      <td>58</td>\n",
       "      <td>6</td>\n",
       "      <td>59</td>\n",
       "    </tr>\n",
       "    <tr>\n",
       "      <th>3</th>\n",
       "      <td>Student D</td>\n",
       "      <td>Pre-AP</td>\n",
       "      <td>99</td>\n",
       "      <td>99</td>\n",
       "      <td>99</td>\n",
       "      <td>99</td>\n",
       "      <td>99</td>\n",
       "    </tr>\n",
       "    <tr>\n",
       "      <th>4</th>\n",
       "      <td>Student E</td>\n",
       "      <td>Standard</td>\n",
       "      <td>100</td>\n",
       "      <td>100</td>\n",
       "      <td>100</td>\n",
       "      <td>100</td>\n",
       "      <td>100</td>\n",
       "    </tr>\n",
       "    <tr>\n",
       "      <th>5</th>\n",
       "      <td>Student F</td>\n",
       "      <td>AP</td>\n",
       "      <td>75</td>\n",
       "      <td>79</td>\n",
       "      <td>83</td>\n",
       "      <td>81</td>\n",
       "      <td>80</td>\n",
       "    </tr>\n",
       "  </tbody>\n",
       "</table>\n",
       "</div>"
      ],
      "text/plain": [
       "        Name Class Type  Quiz 1  Quiz_2  Quiz 3  Quiz 4  Quiz 5\n",
       "0  Student A   Standard      92      54      88      56      99\n",
       "1  Student B     Pre-AP      65      87      67      98      55\n",
       "2  Student C   Standard      82      84      58       6      59\n",
       "3  Student D     Pre-AP      99      99      99      99      99\n",
       "4  Student E   Standard     100     100     100     100     100\n",
       "5  Student F         AP      75      79      83      81      80"
      ]
     },
     "execution_count": 5,
     "metadata": {},
     "output_type": "execute_result"
    }
   ],
   "source": [
    "df"
   ]
  },
  {
   "cell_type": "markdown",
   "metadata": {},
   "source": [
    "### Show data types,  indexes, columns, values"
   ]
  },
  {
   "cell_type": "markdown",
   "metadata": {},
   "source": [
    "<p>\n",
    "    <i>32-bit integer (int32) = 2,147,483,647</i>\n",
    "</p>\n",
    "<p>\n",
    "    <i>64-bit integer (int64) = 9,223,372,036,854,775,807</i>\n",
    "</p>"
   ]
  },
  {
   "cell_type": "code",
   "execution_count": 6,
   "metadata": {},
   "outputs": [],
   "source": [
    "# pd.read_csv('./engagements.csv')"
   ]
  },
  {
   "cell_type": "code",
   "execution_count": 7,
   "metadata": {
    "scrolled": true
   },
   "outputs": [
    {
     "data": {
      "text/plain": [
       "['BooleanDtype',\n",
       " 'Categorical',\n",
       " 'CategoricalDtype',\n",
       " 'CategoricalIndex',\n",
       " 'DataFrame',\n",
       " 'DateOffset',\n",
       " 'DatetimeIndex',\n",
       " 'DatetimeTZDtype',\n",
       " 'ExcelFile',\n",
       " 'ExcelWriter',\n",
       " 'Flags',\n",
       " 'Float32Dtype',\n",
       " 'Float64Dtype',\n",
       " 'Float64Index',\n",
       " 'Grouper',\n",
       " 'HDFStore',\n",
       " 'Index',\n",
       " 'IndexSlice',\n",
       " 'Int16Dtype',\n",
       " 'Int32Dtype',\n",
       " 'Int64Dtype',\n",
       " 'Int64Index',\n",
       " 'Int8Dtype',\n",
       " 'Interval',\n",
       " 'IntervalDtype',\n",
       " 'IntervalIndex',\n",
       " 'MultiIndex',\n",
       " 'NA',\n",
       " 'NaT',\n",
       " 'NamedAgg',\n",
       " 'Period',\n",
       " 'PeriodDtype',\n",
       " 'PeriodIndex',\n",
       " 'RangeIndex',\n",
       " 'Series',\n",
       " 'SparseDtype',\n",
       " 'StringDtype',\n",
       " 'Timedelta',\n",
       " 'TimedeltaIndex',\n",
       " 'Timestamp',\n",
       " 'UInt16Dtype',\n",
       " 'UInt32Dtype',\n",
       " 'UInt64Dtype',\n",
       " 'UInt64Index',\n",
       " 'UInt8Dtype',\n",
       " '__builtins__',\n",
       " '__cached__',\n",
       " '__doc__',\n",
       " '__docformat__',\n",
       " '__file__',\n",
       " '__getattr__',\n",
       " '__git_version__',\n",
       " '__loader__',\n",
       " '__name__',\n",
       " '__package__',\n",
       " '__path__',\n",
       " '__spec__',\n",
       " '__version__',\n",
       " '_config',\n",
       " '_hashtable',\n",
       " '_is_numpy_dev',\n",
       " '_lib',\n",
       " '_libs',\n",
       " '_np_version_under1p18',\n",
       " '_testing',\n",
       " '_tslib',\n",
       " '_typing',\n",
       " '_version',\n",
       " 'api',\n",
       " 'array',\n",
       " 'arrays',\n",
       " 'bdate_range',\n",
       " 'compat',\n",
       " 'concat',\n",
       " 'core',\n",
       " 'crosstab',\n",
       " 'cut',\n",
       " 'date_range',\n",
       " 'describe_option',\n",
       " 'errors',\n",
       " 'eval',\n",
       " 'factorize',\n",
       " 'get_dummies',\n",
       " 'get_option',\n",
       " 'infer_freq',\n",
       " 'interval_range',\n",
       " 'io',\n",
       " 'isna',\n",
       " 'isnull',\n",
       " 'json_normalize',\n",
       " 'lreshape',\n",
       " 'melt',\n",
       " 'merge',\n",
       " 'merge_asof',\n",
       " 'merge_ordered',\n",
       " 'notna',\n",
       " 'notnull',\n",
       " 'offsets',\n",
       " 'option_context',\n",
       " 'options',\n",
       " 'pandas',\n",
       " 'period_range',\n",
       " 'pivot',\n",
       " 'pivot_table',\n",
       " 'plotting',\n",
       " 'qcut',\n",
       " 'read_clipboard',\n",
       " 'read_csv',\n",
       " 'read_excel',\n",
       " 'read_feather',\n",
       " 'read_fwf',\n",
       " 'read_gbq',\n",
       " 'read_hdf',\n",
       " 'read_html',\n",
       " 'read_json',\n",
       " 'read_orc',\n",
       " 'read_parquet',\n",
       " 'read_pickle',\n",
       " 'read_sas',\n",
       " 'read_spss',\n",
       " 'read_sql',\n",
       " 'read_sql_query',\n",
       " 'read_sql_table',\n",
       " 'read_stata',\n",
       " 'read_table',\n",
       " 'read_xml',\n",
       " 'reset_option',\n",
       " 'set_eng_float_format',\n",
       " 'set_option',\n",
       " 'show_versions',\n",
       " 'test',\n",
       " 'testing',\n",
       " 'timedelta_range',\n",
       " 'to_datetime',\n",
       " 'to_numeric',\n",
       " 'to_pickle',\n",
       " 'to_timedelta',\n",
       " 'tseries',\n",
       " 'unique',\n",
       " 'util',\n",
       " 'value_counts',\n",
       " 'wide_to_long']"
      ]
     },
     "execution_count": 7,
     "metadata": {},
     "output_type": "execute_result"
    }
   ],
   "source": [
    "dir(pd)"
   ]
  },
  {
   "cell_type": "markdown",
   "metadata": {},
   "source": [
    "### Basic information about dataframe"
   ]
  },
  {
   "cell_type": "code",
   "execution_count": 8,
   "metadata": {},
   "outputs": [
    {
     "data": {
      "text/html": [
       "<div>\n",
       "<style scoped>\n",
       "    .dataframe tbody tr th:only-of-type {\n",
       "        vertical-align: middle;\n",
       "    }\n",
       "\n",
       "    .dataframe tbody tr th {\n",
       "        vertical-align: top;\n",
       "    }\n",
       "\n",
       "    .dataframe thead th {\n",
       "        text-align: right;\n",
       "    }\n",
       "</style>\n",
       "<table border=\"1\" class=\"dataframe\">\n",
       "  <thead>\n",
       "    <tr style=\"text-align: right;\">\n",
       "      <th></th>\n",
       "      <th>Quiz 1</th>\n",
       "      <th>Quiz_2</th>\n",
       "      <th>Quiz 3</th>\n",
       "      <th>Quiz 4</th>\n",
       "      <th>Quiz 5</th>\n",
       "    </tr>\n",
       "  </thead>\n",
       "  <tbody>\n",
       "    <tr>\n",
       "      <th>count</th>\n",
       "      <td>6.000000</td>\n",
       "      <td>6.000000</td>\n",
       "      <td>6.00000</td>\n",
       "      <td>6.000000</td>\n",
       "      <td>6.000000</td>\n",
       "    </tr>\n",
       "    <tr>\n",
       "      <th>mean</th>\n",
       "      <td>85.500000</td>\n",
       "      <td>83.833333</td>\n",
       "      <td>82.50000</td>\n",
       "      <td>73.333333</td>\n",
       "      <td>82.000000</td>\n",
       "    </tr>\n",
       "    <tr>\n",
       "      <th>std</th>\n",
       "      <td>13.982131</td>\n",
       "      <td>16.821613</td>\n",
       "      <td>17.02645</td>\n",
       "      <td>37.071103</td>\n",
       "      <td>20.803846</td>\n",
       "    </tr>\n",
       "    <tr>\n",
       "      <th>min</th>\n",
       "      <td>65.000000</td>\n",
       "      <td>54.000000</td>\n",
       "      <td>58.00000</td>\n",
       "      <td>6.000000</td>\n",
       "      <td>55.000000</td>\n",
       "    </tr>\n",
       "    <tr>\n",
       "      <th>25%</th>\n",
       "      <td>76.750000</td>\n",
       "      <td>80.250000</td>\n",
       "      <td>71.00000</td>\n",
       "      <td>62.250000</td>\n",
       "      <td>64.250000</td>\n",
       "    </tr>\n",
       "    <tr>\n",
       "      <th>50%</th>\n",
       "      <td>87.000000</td>\n",
       "      <td>85.500000</td>\n",
       "      <td>85.50000</td>\n",
       "      <td>89.500000</td>\n",
       "      <td>89.500000</td>\n",
       "    </tr>\n",
       "    <tr>\n",
       "      <th>75%</th>\n",
       "      <td>97.250000</td>\n",
       "      <td>96.000000</td>\n",
       "      <td>96.25000</td>\n",
       "      <td>98.750000</td>\n",
       "      <td>99.000000</td>\n",
       "    </tr>\n",
       "    <tr>\n",
       "      <th>max</th>\n",
       "      <td>100.000000</td>\n",
       "      <td>100.000000</td>\n",
       "      <td>100.00000</td>\n",
       "      <td>100.000000</td>\n",
       "      <td>100.000000</td>\n",
       "    </tr>\n",
       "  </tbody>\n",
       "</table>\n",
       "</div>"
      ],
      "text/plain": [
       "           Quiz 1      Quiz_2     Quiz 3      Quiz 4      Quiz 5\n",
       "count    6.000000    6.000000    6.00000    6.000000    6.000000\n",
       "mean    85.500000   83.833333   82.50000   73.333333   82.000000\n",
       "std     13.982131   16.821613   17.02645   37.071103   20.803846\n",
       "min     65.000000   54.000000   58.00000    6.000000   55.000000\n",
       "25%     76.750000   80.250000   71.00000   62.250000   64.250000\n",
       "50%     87.000000   85.500000   85.50000   89.500000   89.500000\n",
       "75%     97.250000   96.000000   96.25000   98.750000   99.000000\n",
       "max    100.000000  100.000000  100.00000  100.000000  100.000000"
      ]
     },
     "execution_count": 8,
     "metadata": {},
     "output_type": "execute_result"
    }
   ],
   "source": [
    "df.describe()"
   ]
  },
  {
   "cell_type": "code",
   "execution_count": 9,
   "metadata": {},
   "outputs": [
    {
     "name": "stdout",
     "output_type": "stream",
     "text": [
      "<class 'pandas.core.frame.DataFrame'>\n",
      "Int64Index: 6 entries, 0 to 5\n",
      "Data columns (total 7 columns):\n",
      " #   Column      Non-Null Count  Dtype \n",
      "---  ------      --------------  ----- \n",
      " 0   Name        6 non-null      object\n",
      " 1   Class Type  6 non-null      object\n",
      " 2   Quiz 1      6 non-null      int64 \n",
      " 3   Quiz_2      6 non-null      int64 \n",
      " 4   Quiz 3      6 non-null      int64 \n",
      " 5   Quiz 4      6 non-null      int64 \n",
      " 6   Quiz 5      6 non-null      int64 \n",
      "dtypes: int64(5), object(2)\n",
      "memory usage: 384.0+ bytes\n"
     ]
    }
   ],
   "source": [
    "df.info()"
   ]
  },
  {
   "cell_type": "code",
   "execution_count": 10,
   "metadata": {},
   "outputs": [
    {
     "data": {
      "text/html": [
       "<div>\n",
       "<style scoped>\n",
       "    .dataframe tbody tr th:only-of-type {\n",
       "        vertical-align: middle;\n",
       "    }\n",
       "\n",
       "    .dataframe tbody tr th {\n",
       "        vertical-align: top;\n",
       "    }\n",
       "\n",
       "    .dataframe thead th {\n",
       "        text-align: right;\n",
       "    }\n",
       "</style>\n",
       "<table border=\"1\" class=\"dataframe\">\n",
       "  <thead>\n",
       "    <tr style=\"text-align: right;\">\n",
       "      <th></th>\n",
       "      <th>Name</th>\n",
       "      <th>Class Type</th>\n",
       "      <th>Quiz 1</th>\n",
       "      <th>Quiz_2</th>\n",
       "      <th>Quiz 3</th>\n",
       "      <th>Quiz 4</th>\n",
       "      <th>Quiz 5</th>\n",
       "    </tr>\n",
       "  </thead>\n",
       "  <tbody>\n",
       "    <tr>\n",
       "      <th>0</th>\n",
       "      <td>Student A</td>\n",
       "      <td>Standard</td>\n",
       "      <td>92</td>\n",
       "      <td>54</td>\n",
       "      <td>88</td>\n",
       "      <td>56</td>\n",
       "      <td>99</td>\n",
       "    </tr>\n",
       "    <tr>\n",
       "      <th>1</th>\n",
       "      <td>Student B</td>\n",
       "      <td>Pre-AP</td>\n",
       "      <td>65</td>\n",
       "      <td>87</td>\n",
       "      <td>67</td>\n",
       "      <td>98</td>\n",
       "      <td>55</td>\n",
       "    </tr>\n",
       "    <tr>\n",
       "      <th>2</th>\n",
       "      <td>Student C</td>\n",
       "      <td>Standard</td>\n",
       "      <td>82</td>\n",
       "      <td>84</td>\n",
       "      <td>58</td>\n",
       "      <td>6</td>\n",
       "      <td>59</td>\n",
       "    </tr>\n",
       "    <tr>\n",
       "      <th>3</th>\n",
       "      <td>Student D</td>\n",
       "      <td>Pre-AP</td>\n",
       "      <td>99</td>\n",
       "      <td>99</td>\n",
       "      <td>99</td>\n",
       "      <td>99</td>\n",
       "      <td>99</td>\n",
       "    </tr>\n",
       "    <tr>\n",
       "      <th>4</th>\n",
       "      <td>Student E</td>\n",
       "      <td>Standard</td>\n",
       "      <td>100</td>\n",
       "      <td>100</td>\n",
       "      <td>100</td>\n",
       "      <td>100</td>\n",
       "      <td>100</td>\n",
       "    </tr>\n",
       "  </tbody>\n",
       "</table>\n",
       "</div>"
      ],
      "text/plain": [
       "        Name Class Type  Quiz 1  Quiz_2  Quiz 3  Quiz 4  Quiz 5\n",
       "0  Student A   Standard      92      54      88      56      99\n",
       "1  Student B     Pre-AP      65      87      67      98      55\n",
       "2  Student C   Standard      82      84      58       6      59\n",
       "3  Student D     Pre-AP      99      99      99      99      99\n",
       "4  Student E   Standard     100     100     100     100     100"
      ]
     },
     "execution_count": 10,
     "metadata": {},
     "output_type": "execute_result"
    }
   ],
   "source": [
    "df.head()"
   ]
  },
  {
   "cell_type": "code",
   "execution_count": 11,
   "metadata": {},
   "outputs": [
    {
     "data": {
      "text/html": [
       "<div>\n",
       "<style scoped>\n",
       "    .dataframe tbody tr th:only-of-type {\n",
       "        vertical-align: middle;\n",
       "    }\n",
       "\n",
       "    .dataframe tbody tr th {\n",
       "        vertical-align: top;\n",
       "    }\n",
       "\n",
       "    .dataframe thead th {\n",
       "        text-align: right;\n",
       "    }\n",
       "</style>\n",
       "<table border=\"1\" class=\"dataframe\">\n",
       "  <thead>\n",
       "    <tr style=\"text-align: right;\">\n",
       "      <th></th>\n",
       "      <th>Name</th>\n",
       "      <th>Class Type</th>\n",
       "      <th>Quiz 1</th>\n",
       "      <th>Quiz_2</th>\n",
       "      <th>Quiz 3</th>\n",
       "      <th>Quiz 4</th>\n",
       "      <th>Quiz 5</th>\n",
       "    </tr>\n",
       "  </thead>\n",
       "  <tbody>\n",
       "    <tr>\n",
       "      <th>1</th>\n",
       "      <td>Student B</td>\n",
       "      <td>Pre-AP</td>\n",
       "      <td>65</td>\n",
       "      <td>87</td>\n",
       "      <td>67</td>\n",
       "      <td>98</td>\n",
       "      <td>55</td>\n",
       "    </tr>\n",
       "    <tr>\n",
       "      <th>2</th>\n",
       "      <td>Student C</td>\n",
       "      <td>Standard</td>\n",
       "      <td>82</td>\n",
       "      <td>84</td>\n",
       "      <td>58</td>\n",
       "      <td>6</td>\n",
       "      <td>59</td>\n",
       "    </tr>\n",
       "    <tr>\n",
       "      <th>3</th>\n",
       "      <td>Student D</td>\n",
       "      <td>Pre-AP</td>\n",
       "      <td>99</td>\n",
       "      <td>99</td>\n",
       "      <td>99</td>\n",
       "      <td>99</td>\n",
       "      <td>99</td>\n",
       "    </tr>\n",
       "    <tr>\n",
       "      <th>4</th>\n",
       "      <td>Student E</td>\n",
       "      <td>Standard</td>\n",
       "      <td>100</td>\n",
       "      <td>100</td>\n",
       "      <td>100</td>\n",
       "      <td>100</td>\n",
       "      <td>100</td>\n",
       "    </tr>\n",
       "    <tr>\n",
       "      <th>5</th>\n",
       "      <td>Student F</td>\n",
       "      <td>AP</td>\n",
       "      <td>75</td>\n",
       "      <td>79</td>\n",
       "      <td>83</td>\n",
       "      <td>81</td>\n",
       "      <td>80</td>\n",
       "    </tr>\n",
       "  </tbody>\n",
       "</table>\n",
       "</div>"
      ],
      "text/plain": [
       "        Name Class Type  Quiz 1  Quiz_2  Quiz 3  Quiz 4  Quiz 5\n",
       "1  Student B     Pre-AP      65      87      67      98      55\n",
       "2  Student C   Standard      82      84      58       6      59\n",
       "3  Student D     Pre-AP      99      99      99      99      99\n",
       "4  Student E   Standard     100     100     100     100     100\n",
       "5  Student F         AP      75      79      83      81      80"
      ]
     },
     "execution_count": 11,
     "metadata": {},
     "output_type": "execute_result"
    }
   ],
   "source": [
    "df.tail()"
   ]
  },
  {
   "cell_type": "code",
   "execution_count": 12,
   "metadata": {
    "scrolled": true
   },
   "outputs": [
    {
     "data": {
      "text/html": [
       "<div>\n",
       "<style scoped>\n",
       "    .dataframe tbody tr th:only-of-type {\n",
       "        vertical-align: middle;\n",
       "    }\n",
       "\n",
       "    .dataframe tbody tr th {\n",
       "        vertical-align: top;\n",
       "    }\n",
       "\n",
       "    .dataframe thead th {\n",
       "        text-align: right;\n",
       "    }\n",
       "</style>\n",
       "<table border=\"1\" class=\"dataframe\">\n",
       "  <thead>\n",
       "    <tr style=\"text-align: right;\">\n",
       "      <th></th>\n",
       "      <th>Name</th>\n",
       "      <th>Class Type</th>\n",
       "      <th>Quiz 1</th>\n",
       "      <th>Quiz_2</th>\n",
       "      <th>Quiz 3</th>\n",
       "      <th>Quiz 4</th>\n",
       "      <th>Quiz 5</th>\n",
       "    </tr>\n",
       "  </thead>\n",
       "  <tbody>\n",
       "    <tr>\n",
       "      <th>0</th>\n",
       "      <td>Student A</td>\n",
       "      <td>Standard</td>\n",
       "      <td>92</td>\n",
       "      <td>54</td>\n",
       "      <td>88</td>\n",
       "      <td>56</td>\n",
       "      <td>99</td>\n",
       "    </tr>\n",
       "    <tr>\n",
       "      <th>1</th>\n",
       "      <td>Student B</td>\n",
       "      <td>Pre-AP</td>\n",
       "      <td>65</td>\n",
       "      <td>87</td>\n",
       "      <td>67</td>\n",
       "      <td>98</td>\n",
       "      <td>55</td>\n",
       "    </tr>\n",
       "    <tr>\n",
       "      <th>2</th>\n",
       "      <td>Student C</td>\n",
       "      <td>Standard</td>\n",
       "      <td>82</td>\n",
       "      <td>84</td>\n",
       "      <td>58</td>\n",
       "      <td>6</td>\n",
       "      <td>59</td>\n",
       "    </tr>\n",
       "  </tbody>\n",
       "</table>\n",
       "</div>"
      ],
      "text/plain": [
       "        Name Class Type  Quiz 1  Quiz_2  Quiz 3  Quiz 4  Quiz 5\n",
       "0  Student A   Standard      92      54      88      56      99\n",
       "1  Student B     Pre-AP      65      87      67      98      55\n",
       "2  Student C   Standard      82      84      58       6      59"
      ]
     },
     "execution_count": 12,
     "metadata": {},
     "output_type": "execute_result"
    }
   ],
   "source": [
    "df.head(3)"
   ]
  },
  {
   "cell_type": "code",
   "execution_count": 13,
   "metadata": {
    "scrolled": true
   },
   "outputs": [
    {
     "data": {
      "text/plain": [
       "Name          object\n",
       "Class Type    object\n",
       "Quiz 1         int64\n",
       "Quiz_2         int64\n",
       "Quiz 3         int64\n",
       "Quiz 4         int64\n",
       "Quiz 5         int64\n",
       "dtype: object"
      ]
     },
     "execution_count": 13,
     "metadata": {},
     "output_type": "execute_result"
    }
   ],
   "source": [
    "# pandas.core.series.Series\n",
    "df.dtypes"
   ]
  },
  {
   "cell_type": "code",
   "execution_count": 14,
   "metadata": {},
   "outputs": [
    {
     "data": {
      "text/plain": [
       "Int64Index([0, 1, 2, 3, 4, 5], dtype='int64')"
      ]
     },
     "execution_count": 14,
     "metadata": {},
     "output_type": "execute_result"
    }
   ],
   "source": [
    "df.index"
   ]
  },
  {
   "cell_type": "code",
   "execution_count": 15,
   "metadata": {},
   "outputs": [
    {
     "data": {
      "text/plain": [
       "Index(['Name', 'Class Type', 'Quiz 1', 'Quiz_2', 'Quiz 3', 'Quiz 4', 'Quiz 5'], dtype='object')"
      ]
     },
     "execution_count": 15,
     "metadata": {},
     "output_type": "execute_result"
    }
   ],
   "source": [
    "df.columns"
   ]
  },
  {
   "cell_type": "markdown",
   "metadata": {},
   "source": [
    "### Statistical summary of data"
   ]
  },
  {
   "cell_type": "code",
   "execution_count": 16,
   "metadata": {
    "scrolled": true
   },
   "outputs": [
    {
     "data": {
      "text/plain": [
       "Quiz 1    81.125000\n",
       "Quiz_2    82.041667\n",
       "Quiz 3    76.750000\n",
       "Quiz 4    67.791667\n",
       "Quiz 5    73.125000\n",
       "Name: 0.5, dtype: float64"
      ]
     },
     "execution_count": 16,
     "metadata": {},
     "output_type": "execute_result"
    }
   ],
   "source": [
    "df.describe().quantile()"
   ]
  },
  {
   "cell_type": "code",
   "execution_count": 17,
   "metadata": {
    "scrolled": true
   },
   "outputs": [
    {
     "data": {
      "text/plain": [
       "0     92\n",
       "1     65\n",
       "2     82\n",
       "3     99\n",
       "4    100\n",
       "5     75\n",
       "Name: Quiz 1, dtype: int64"
      ]
     },
     "execution_count": 17,
     "metadata": {},
     "output_type": "execute_result"
    }
   ],
   "source": [
    "df['Quiz 1']"
   ]
  },
  {
   "cell_type": "code",
   "execution_count": 18,
   "metadata": {
    "scrolled": true
   },
   "outputs": [
    {
     "data": {
      "text/plain": [
       "0     54\n",
       "1     87\n",
       "2     84\n",
       "3     99\n",
       "4    100\n",
       "5     79\n",
       "Name: Quiz_2, dtype: int64"
      ]
     },
     "execution_count": 18,
     "metadata": {},
     "output_type": "execute_result"
    }
   ],
   "source": [
    "df['Quiz_2']"
   ]
  },
  {
   "cell_type": "code",
   "execution_count": 19,
   "metadata": {},
   "outputs": [
    {
     "data": {
      "text/plain": [
       "0    Student A\n",
       "1    Student B\n",
       "2    Student C\n",
       "3    Student D\n",
       "4    Student E\n",
       "5    Student F\n",
       "Name: Name, dtype: object"
      ]
     },
     "execution_count": 19,
     "metadata": {},
     "output_type": "execute_result"
    }
   ],
   "source": [
    "df.Name"
   ]
  },
  {
   "cell_type": "code",
   "execution_count": 20,
   "metadata": {},
   "outputs": [
    {
     "data": {
      "text/html": [
       "<div>\n",
       "<style scoped>\n",
       "    .dataframe tbody tr th:only-of-type {\n",
       "        vertical-align: middle;\n",
       "    }\n",
       "\n",
       "    .dataframe tbody tr th {\n",
       "        vertical-align: top;\n",
       "    }\n",
       "\n",
       "    .dataframe thead th {\n",
       "        text-align: right;\n",
       "    }\n",
       "</style>\n",
       "<table border=\"1\" class=\"dataframe\">\n",
       "  <thead>\n",
       "    <tr style=\"text-align: right;\">\n",
       "      <th></th>\n",
       "      <th>Quiz 1</th>\n",
       "      <th>Quiz_2</th>\n",
       "      <th>Quiz 3</th>\n",
       "      <th>Quiz 4</th>\n",
       "      <th>Quiz 5</th>\n",
       "    </tr>\n",
       "  </thead>\n",
       "  <tbody>\n",
       "    <tr>\n",
       "      <th>count</th>\n",
       "      <td>6.000000</td>\n",
       "      <td>6.000000</td>\n",
       "      <td>6.00000</td>\n",
       "      <td>6.000000</td>\n",
       "      <td>6.000000</td>\n",
       "    </tr>\n",
       "    <tr>\n",
       "      <th>mean</th>\n",
       "      <td>85.500000</td>\n",
       "      <td>83.833333</td>\n",
       "      <td>82.50000</td>\n",
       "      <td>73.333333</td>\n",
       "      <td>82.000000</td>\n",
       "    </tr>\n",
       "    <tr>\n",
       "      <th>std</th>\n",
       "      <td>13.982131</td>\n",
       "      <td>16.821613</td>\n",
       "      <td>17.02645</td>\n",
       "      <td>37.071103</td>\n",
       "      <td>20.803846</td>\n",
       "    </tr>\n",
       "    <tr>\n",
       "      <th>min</th>\n",
       "      <td>65.000000</td>\n",
       "      <td>54.000000</td>\n",
       "      <td>58.00000</td>\n",
       "      <td>6.000000</td>\n",
       "      <td>55.000000</td>\n",
       "    </tr>\n",
       "    <tr>\n",
       "      <th>25%</th>\n",
       "      <td>76.750000</td>\n",
       "      <td>80.250000</td>\n",
       "      <td>71.00000</td>\n",
       "      <td>62.250000</td>\n",
       "      <td>64.250000</td>\n",
       "    </tr>\n",
       "    <tr>\n",
       "      <th>50%</th>\n",
       "      <td>87.000000</td>\n",
       "      <td>85.500000</td>\n",
       "      <td>85.50000</td>\n",
       "      <td>89.500000</td>\n",
       "      <td>89.500000</td>\n",
       "    </tr>\n",
       "    <tr>\n",
       "      <th>75%</th>\n",
       "      <td>97.250000</td>\n",
       "      <td>96.000000</td>\n",
       "      <td>96.25000</td>\n",
       "      <td>98.750000</td>\n",
       "      <td>99.000000</td>\n",
       "    </tr>\n",
       "    <tr>\n",
       "      <th>max</th>\n",
       "      <td>100.000000</td>\n",
       "      <td>100.000000</td>\n",
       "      <td>100.00000</td>\n",
       "      <td>100.000000</td>\n",
       "      <td>100.000000</td>\n",
       "    </tr>\n",
       "  </tbody>\n",
       "</table>\n",
       "</div>"
      ],
      "text/plain": [
       "           Quiz 1      Quiz_2     Quiz 3      Quiz 4      Quiz 5\n",
       "count    6.000000    6.000000    6.00000    6.000000    6.000000\n",
       "mean    85.500000   83.833333   82.50000   73.333333   82.000000\n",
       "std     13.982131   16.821613   17.02645   37.071103   20.803846\n",
       "min     65.000000   54.000000   58.00000    6.000000   55.000000\n",
       "25%     76.750000   80.250000   71.00000   62.250000   64.250000\n",
       "50%     87.000000   85.500000   85.50000   89.500000   89.500000\n",
       "75%     97.250000   96.000000   96.25000   98.750000   99.000000\n",
       "max    100.000000  100.000000  100.00000  100.000000  100.000000"
      ]
     },
     "execution_count": 20,
     "metadata": {},
     "output_type": "execute_result"
    }
   ],
   "source": [
    "df.describe()"
   ]
  },
  {
   "cell_type": "code",
   "execution_count": 21,
   "metadata": {},
   "outputs": [
    {
     "data": {
      "text/plain": [
       "83.83333333333333"
      ]
     },
     "execution_count": 21,
     "metadata": {},
     "output_type": "execute_result"
    }
   ],
   "source": [
    "df['Quiz_2'].mean()"
   ]
  },
  {
   "cell_type": "code",
   "execution_count": 22,
   "metadata": {},
   "outputs": [],
   "source": [
    "# df.Quiz 1"
   ]
  },
  {
   "cell_type": "markdown",
   "metadata": {},
   "source": [
    "### Sort all values by certain criteria"
   ]
  },
  {
   "cell_type": "code",
   "execution_count": 23,
   "metadata": {
    "scrolled": true
   },
   "outputs": [
    {
     "data": {
      "text/html": [
       "<div>\n",
       "<style scoped>\n",
       "    .dataframe tbody tr th:only-of-type {\n",
       "        vertical-align: middle;\n",
       "    }\n",
       "\n",
       "    .dataframe tbody tr th {\n",
       "        vertical-align: top;\n",
       "    }\n",
       "\n",
       "    .dataframe thead th {\n",
       "        text-align: right;\n",
       "    }\n",
       "</style>\n",
       "<table border=\"1\" class=\"dataframe\">\n",
       "  <thead>\n",
       "    <tr style=\"text-align: right;\">\n",
       "      <th></th>\n",
       "      <th>Name</th>\n",
       "      <th>Class Type</th>\n",
       "      <th>Quiz 1</th>\n",
       "      <th>Quiz_2</th>\n",
       "      <th>Quiz 3</th>\n",
       "      <th>Quiz 4</th>\n",
       "      <th>Quiz 5</th>\n",
       "    </tr>\n",
       "  </thead>\n",
       "  <tbody>\n",
       "    <tr>\n",
       "      <th>4</th>\n",
       "      <td>Student E</td>\n",
       "      <td>Standard</td>\n",
       "      <td>100</td>\n",
       "      <td>100</td>\n",
       "      <td>100</td>\n",
       "      <td>100</td>\n",
       "      <td>100</td>\n",
       "    </tr>\n",
       "    <tr>\n",
       "      <th>3</th>\n",
       "      <td>Student D</td>\n",
       "      <td>Pre-AP</td>\n",
       "      <td>99</td>\n",
       "      <td>99</td>\n",
       "      <td>99</td>\n",
       "      <td>99</td>\n",
       "      <td>99</td>\n",
       "    </tr>\n",
       "    <tr>\n",
       "      <th>0</th>\n",
       "      <td>Student A</td>\n",
       "      <td>Standard</td>\n",
       "      <td>92</td>\n",
       "      <td>54</td>\n",
       "      <td>88</td>\n",
       "      <td>56</td>\n",
       "      <td>99</td>\n",
       "    </tr>\n",
       "    <tr>\n",
       "      <th>5</th>\n",
       "      <td>Student F</td>\n",
       "      <td>AP</td>\n",
       "      <td>75</td>\n",
       "      <td>79</td>\n",
       "      <td>83</td>\n",
       "      <td>81</td>\n",
       "      <td>80</td>\n",
       "    </tr>\n",
       "    <tr>\n",
       "      <th>1</th>\n",
       "      <td>Student B</td>\n",
       "      <td>Pre-AP</td>\n",
       "      <td>65</td>\n",
       "      <td>87</td>\n",
       "      <td>67</td>\n",
       "      <td>98</td>\n",
       "      <td>55</td>\n",
       "    </tr>\n",
       "    <tr>\n",
       "      <th>2</th>\n",
       "      <td>Student C</td>\n",
       "      <td>Standard</td>\n",
       "      <td>82</td>\n",
       "      <td>84</td>\n",
       "      <td>58</td>\n",
       "      <td>6</td>\n",
       "      <td>59</td>\n",
       "    </tr>\n",
       "  </tbody>\n",
       "</table>\n",
       "</div>"
      ],
      "text/plain": [
       "        Name Class Type  Quiz 1  Quiz_2  Quiz 3  Quiz 4  Quiz 5\n",
       "4  Student E   Standard     100     100     100     100     100\n",
       "3  Student D     Pre-AP      99      99      99      99      99\n",
       "0  Student A   Standard      92      54      88      56      99\n",
       "5  Student F         AP      75      79      83      81      80\n",
       "1  Student B     Pre-AP      65      87      67      98      55\n",
       "2  Student C   Standard      82      84      58       6      59"
      ]
     },
     "execution_count": 23,
     "metadata": {},
     "output_type": "execute_result"
    }
   ],
   "source": [
    "df.sort_values('Quiz 3', ascending=False)"
   ]
  },
  {
   "cell_type": "code",
   "execution_count": 24,
   "metadata": {},
   "outputs": [],
   "source": [
    "# dir(df)"
   ]
  },
  {
   "cell_type": "code",
   "execution_count": 25,
   "metadata": {
    "scrolled": true
   },
   "outputs": [
    {
     "data": {
      "text/html": [
       "<div>\n",
       "<style scoped>\n",
       "    .dataframe tbody tr th:only-of-type {\n",
       "        vertical-align: middle;\n",
       "    }\n",
       "\n",
       "    .dataframe tbody tr th {\n",
       "        vertical-align: top;\n",
       "    }\n",
       "\n",
       "    .dataframe thead th {\n",
       "        text-align: right;\n",
       "    }\n",
       "</style>\n",
       "<table border=\"1\" class=\"dataframe\">\n",
       "  <thead>\n",
       "    <tr style=\"text-align: right;\">\n",
       "      <th></th>\n",
       "      <th>Name</th>\n",
       "      <th>Class Type</th>\n",
       "      <th>Quiz 1</th>\n",
       "      <th>Quiz_2</th>\n",
       "      <th>Quiz 3</th>\n",
       "      <th>Quiz 4</th>\n",
       "      <th>Quiz 5</th>\n",
       "    </tr>\n",
       "  </thead>\n",
       "  <tbody>\n",
       "    <tr>\n",
       "      <th>0</th>\n",
       "      <td>Student A</td>\n",
       "      <td>Standard</td>\n",
       "      <td>92</td>\n",
       "      <td>54</td>\n",
       "      <td>88</td>\n",
       "      <td>56</td>\n",
       "      <td>99</td>\n",
       "    </tr>\n",
       "    <tr>\n",
       "      <th>1</th>\n",
       "      <td>Student B</td>\n",
       "      <td>Pre-AP</td>\n",
       "      <td>65</td>\n",
       "      <td>87</td>\n",
       "      <td>67</td>\n",
       "      <td>98</td>\n",
       "      <td>55</td>\n",
       "    </tr>\n",
       "    <tr>\n",
       "      <th>2</th>\n",
       "      <td>Student C</td>\n",
       "      <td>Standard</td>\n",
       "      <td>82</td>\n",
       "      <td>84</td>\n",
       "      <td>58</td>\n",
       "      <td>6</td>\n",
       "      <td>59</td>\n",
       "    </tr>\n",
       "    <tr>\n",
       "      <th>3</th>\n",
       "      <td>Student D</td>\n",
       "      <td>Pre-AP</td>\n",
       "      <td>99</td>\n",
       "      <td>99</td>\n",
       "      <td>99</td>\n",
       "      <td>99</td>\n",
       "      <td>99</td>\n",
       "    </tr>\n",
       "    <tr>\n",
       "      <th>4</th>\n",
       "      <td>Student E</td>\n",
       "      <td>Standard</td>\n",
       "      <td>100</td>\n",
       "      <td>100</td>\n",
       "      <td>100</td>\n",
       "      <td>100</td>\n",
       "      <td>100</td>\n",
       "    </tr>\n",
       "    <tr>\n",
       "      <th>5</th>\n",
       "      <td>Student F</td>\n",
       "      <td>AP</td>\n",
       "      <td>75</td>\n",
       "      <td>79</td>\n",
       "      <td>83</td>\n",
       "      <td>81</td>\n",
       "      <td>80</td>\n",
       "    </tr>\n",
       "  </tbody>\n",
       "</table>\n",
       "</div>"
      ],
      "text/plain": [
       "        Name Class Type Quiz 1 Quiz_2 Quiz 3 Quiz 4 Quiz 5\n",
       "0  Student A   Standard     92     54     88     56     99\n",
       "1  Student B     Pre-AP     65     87     67     98     55\n",
       "2  Student C   Standard     82     84     58      6     59\n",
       "3  Student D     Pre-AP     99     99     99     99     99\n",
       "4  Student E   Standard    100    100    100    100    100\n",
       "5  Student F         AP     75     79     83     81     80"
      ]
     },
     "execution_count": 25,
     "metadata": {},
     "output_type": "execute_result"
    }
   ],
   "source": [
    "df.transpose().transpose().transpose().transpose().transpose().transpose()"
   ]
  },
  {
   "cell_type": "markdown",
   "metadata": {},
   "source": [
    "### Adding"
   ]
  },
  {
   "cell_type": "code",
   "execution_count": 26,
   "metadata": {},
   "outputs": [],
   "source": [
    "new_data = ['Student G', 'AP', 100, 100, 83, 81, 80]\n",
    "\n",
    "# data_to_add = pd.DataFrame(\n",
    "#     data=new_data,\n",
    "#     index=list(range(len(new_data))),\n",
    "#     columns=['Name', 'Class Type', 'Quiz 1', 'Quiz 2', 'Quiz 3', 'Quiz 4', 'Quiz 5']\n",
    "# )\n",
    "\n",
    "# How to add a new individual record to your dataframe\n",
    "df.loc[len(df)] = new_data"
   ]
  },
  {
   "cell_type": "code",
   "execution_count": 27,
   "metadata": {},
   "outputs": [
    {
     "data": {
      "text/html": [
       "<div>\n",
       "<style scoped>\n",
       "    .dataframe tbody tr th:only-of-type {\n",
       "        vertical-align: middle;\n",
       "    }\n",
       "\n",
       "    .dataframe tbody tr th {\n",
       "        vertical-align: top;\n",
       "    }\n",
       "\n",
       "    .dataframe thead th {\n",
       "        text-align: right;\n",
       "    }\n",
       "</style>\n",
       "<table border=\"1\" class=\"dataframe\">\n",
       "  <thead>\n",
       "    <tr style=\"text-align: right;\">\n",
       "      <th></th>\n",
       "      <th>Name</th>\n",
       "      <th>Class Type</th>\n",
       "      <th>Quiz 1</th>\n",
       "      <th>Quiz_2</th>\n",
       "      <th>Quiz 3</th>\n",
       "      <th>Quiz 4</th>\n",
       "      <th>Quiz 5</th>\n",
       "    </tr>\n",
       "  </thead>\n",
       "  <tbody>\n",
       "    <tr>\n",
       "      <th>0</th>\n",
       "      <td>Student A</td>\n",
       "      <td>Standard</td>\n",
       "      <td>92</td>\n",
       "      <td>54</td>\n",
       "      <td>88</td>\n",
       "      <td>56</td>\n",
       "      <td>99</td>\n",
       "    </tr>\n",
       "    <tr>\n",
       "      <th>1</th>\n",
       "      <td>Student B</td>\n",
       "      <td>Pre-AP</td>\n",
       "      <td>65</td>\n",
       "      <td>87</td>\n",
       "      <td>67</td>\n",
       "      <td>98</td>\n",
       "      <td>55</td>\n",
       "    </tr>\n",
       "    <tr>\n",
       "      <th>2</th>\n",
       "      <td>Student C</td>\n",
       "      <td>Standard</td>\n",
       "      <td>82</td>\n",
       "      <td>84</td>\n",
       "      <td>58</td>\n",
       "      <td>6</td>\n",
       "      <td>59</td>\n",
       "    </tr>\n",
       "    <tr>\n",
       "      <th>3</th>\n",
       "      <td>Student D</td>\n",
       "      <td>Pre-AP</td>\n",
       "      <td>99</td>\n",
       "      <td>99</td>\n",
       "      <td>99</td>\n",
       "      <td>99</td>\n",
       "      <td>99</td>\n",
       "    </tr>\n",
       "    <tr>\n",
       "      <th>4</th>\n",
       "      <td>Student E</td>\n",
       "      <td>Standard</td>\n",
       "      <td>100</td>\n",
       "      <td>100</td>\n",
       "      <td>100</td>\n",
       "      <td>100</td>\n",
       "      <td>100</td>\n",
       "    </tr>\n",
       "    <tr>\n",
       "      <th>5</th>\n",
       "      <td>Student F</td>\n",
       "      <td>AP</td>\n",
       "      <td>75</td>\n",
       "      <td>79</td>\n",
       "      <td>83</td>\n",
       "      <td>81</td>\n",
       "      <td>80</td>\n",
       "    </tr>\n",
       "    <tr>\n",
       "      <th>6</th>\n",
       "      <td>Student G</td>\n",
       "      <td>AP</td>\n",
       "      <td>100</td>\n",
       "      <td>100</td>\n",
       "      <td>83</td>\n",
       "      <td>81</td>\n",
       "      <td>80</td>\n",
       "    </tr>\n",
       "  </tbody>\n",
       "</table>\n",
       "</div>"
      ],
      "text/plain": [
       "        Name Class Type  Quiz 1  Quiz_2  Quiz 3  Quiz 4  Quiz 5\n",
       "0  Student A   Standard      92      54      88      56      99\n",
       "1  Student B     Pre-AP      65      87      67      98      55\n",
       "2  Student C   Standard      82      84      58       6      59\n",
       "3  Student D     Pre-AP      99      99      99      99      99\n",
       "4  Student E   Standard     100     100     100     100     100\n",
       "5  Student F         AP      75      79      83      81      80\n",
       "6  Student G         AP     100     100      83      81      80"
      ]
     },
     "execution_count": 27,
     "metadata": {},
     "output_type": "execute_result"
    }
   ],
   "source": [
    "df"
   ]
  },
  {
   "cell_type": "markdown",
   "metadata": {},
   "source": [
    "### Slicing data"
   ]
  },
  {
   "cell_type": "code",
   "execution_count": 28,
   "metadata": {},
   "outputs": [],
   "source": [
    "# object literal notation\n",
    "# df['Quiz 2']\n",
    "\n",
    "# object dot notation\n",
    "# df.Name"
   ]
  },
  {
   "cell_type": "code",
   "execution_count": 29,
   "metadata": {
    "scrolled": false
   },
   "outputs": [
    {
     "data": {
      "text/html": [
       "<div>\n",
       "<style scoped>\n",
       "    .dataframe tbody tr th:only-of-type {\n",
       "        vertical-align: middle;\n",
       "    }\n",
       "\n",
       "    .dataframe tbody tr th {\n",
       "        vertical-align: top;\n",
       "    }\n",
       "\n",
       "    .dataframe thead th {\n",
       "        text-align: right;\n",
       "    }\n",
       "</style>\n",
       "<table border=\"1\" class=\"dataframe\">\n",
       "  <thead>\n",
       "    <tr style=\"text-align: right;\">\n",
       "      <th></th>\n",
       "      <th>Name</th>\n",
       "      <th>Class Type</th>\n",
       "      <th>Quiz 1</th>\n",
       "      <th>Quiz_2</th>\n",
       "      <th>Quiz 3</th>\n",
       "      <th>Quiz 4</th>\n",
       "      <th>Quiz 5</th>\n",
       "    </tr>\n",
       "  </thead>\n",
       "  <tbody>\n",
       "    <tr>\n",
       "      <th>2</th>\n",
       "      <td>Student C</td>\n",
       "      <td>Standard</td>\n",
       "      <td>82</td>\n",
       "      <td>84</td>\n",
       "      <td>58</td>\n",
       "      <td>6</td>\n",
       "      <td>59</td>\n",
       "    </tr>\n",
       "    <tr>\n",
       "      <th>3</th>\n",
       "      <td>Student D</td>\n",
       "      <td>Pre-AP</td>\n",
       "      <td>99</td>\n",
       "      <td>99</td>\n",
       "      <td>99</td>\n",
       "      <td>99</td>\n",
       "      <td>99</td>\n",
       "    </tr>\n",
       "    <tr>\n",
       "      <th>4</th>\n",
       "      <td>Student E</td>\n",
       "      <td>Standard</td>\n",
       "      <td>100</td>\n",
       "      <td>100</td>\n",
       "      <td>100</td>\n",
       "      <td>100</td>\n",
       "      <td>100</td>\n",
       "    </tr>\n",
       "  </tbody>\n",
       "</table>\n",
       "</div>"
      ],
      "text/plain": [
       "        Name Class Type  Quiz 1  Quiz_2  Quiz 3  Quiz 4  Quiz 5\n",
       "2  Student C   Standard      82      84      58       6      59\n",
       "3  Student D     Pre-AP      99      99      99      99      99\n",
       "4  Student E   Standard     100     100     100     100     100"
      ]
     },
     "execution_count": 29,
     "metadata": {},
     "output_type": "execute_result"
    }
   ],
   "source": [
    "df[2:5]"
   ]
  },
  {
   "cell_type": "code",
   "execution_count": 30,
   "metadata": {},
   "outputs": [
    {
     "data": {
      "text/html": [
       "<div>\n",
       "<style scoped>\n",
       "    .dataframe tbody tr th:only-of-type {\n",
       "        vertical-align: middle;\n",
       "    }\n",
       "\n",
       "    .dataframe tbody tr th {\n",
       "        vertical-align: top;\n",
       "    }\n",
       "\n",
       "    .dataframe thead th {\n",
       "        text-align: right;\n",
       "    }\n",
       "</style>\n",
       "<table border=\"1\" class=\"dataframe\">\n",
       "  <thead>\n",
       "    <tr style=\"text-align: right;\">\n",
       "      <th></th>\n",
       "      <th>Name</th>\n",
       "      <th>Quiz 1</th>\n",
       "      <th>Quiz_2</th>\n",
       "    </tr>\n",
       "  </thead>\n",
       "  <tbody>\n",
       "    <tr>\n",
       "      <th>0</th>\n",
       "      <td>Student A</td>\n",
       "      <td>92</td>\n",
       "      <td>54</td>\n",
       "    </tr>\n",
       "    <tr>\n",
       "      <th>1</th>\n",
       "      <td>Student B</td>\n",
       "      <td>65</td>\n",
       "      <td>87</td>\n",
       "    </tr>\n",
       "    <tr>\n",
       "      <th>2</th>\n",
       "      <td>Student C</td>\n",
       "      <td>82</td>\n",
       "      <td>84</td>\n",
       "    </tr>\n",
       "    <tr>\n",
       "      <th>3</th>\n",
       "      <td>Student D</td>\n",
       "      <td>99</td>\n",
       "      <td>99</td>\n",
       "    </tr>\n",
       "    <tr>\n",
       "      <th>4</th>\n",
       "      <td>Student E</td>\n",
       "      <td>100</td>\n",
       "      <td>100</td>\n",
       "    </tr>\n",
       "    <tr>\n",
       "      <th>5</th>\n",
       "      <td>Student F</td>\n",
       "      <td>75</td>\n",
       "      <td>79</td>\n",
       "    </tr>\n",
       "    <tr>\n",
       "      <th>6</th>\n",
       "      <td>Student G</td>\n",
       "      <td>100</td>\n",
       "      <td>100</td>\n",
       "    </tr>\n",
       "  </tbody>\n",
       "</table>\n",
       "</div>"
      ],
      "text/plain": [
       "        Name  Quiz 1  Quiz_2\n",
       "0  Student A      92      54\n",
       "1  Student B      65      87\n",
       "2  Student C      82      84\n",
       "3  Student D      99      99\n",
       "4  Student E     100     100\n",
       "5  Student F      75      79\n",
       "6  Student G     100     100"
      ]
     },
     "execution_count": 30,
     "metadata": {},
     "output_type": "execute_result"
    }
   ],
   "source": [
    "# retrieve subsection of a slice of column data\n",
    "df[['Name', 'Quiz 1', 'Quiz_2']]"
   ]
  },
  {
   "cell_type": "code",
   "execution_count": 31,
   "metadata": {
    "scrolled": true
   },
   "outputs": [
    {
     "data": {
      "text/plain": [
       "Quiz 1    75\n",
       "Quiz_2    79\n",
       "Name: 5, dtype: object"
      ]
     },
     "execution_count": 31,
     "metadata": {},
     "output_type": "execute_result"
    }
   ],
   "source": [
    "df.loc[5, ['Quiz 1', 'Quiz_2']]"
   ]
  },
  {
   "cell_type": "code",
   "execution_count": 32,
   "metadata": {},
   "outputs": [
    {
     "data": {
      "text/plain": [
       "Name          Student D\n",
       "Class Type       Pre-AP\n",
       "Quiz 1               99\n",
       "Quiz_2               99\n",
       "Quiz 3               99\n",
       "Quiz 4               99\n",
       "Quiz 5               99\n",
       "Name: 3, dtype: object"
      ]
     },
     "execution_count": 32,
     "metadata": {},
     "output_type": "execute_result"
    }
   ],
   "source": [
    "df.loc[3, :]"
   ]
  },
  {
   "cell_type": "code",
   "execution_count": 33,
   "metadata": {},
   "outputs": [
    {
     "data": {
      "text/plain": [
       "Quiz 1    75\n",
       "Quiz_2    79\n",
       "Quiz 3    83\n",
       "Quiz 4    81\n",
       "Name: 5, dtype: object"
      ]
     },
     "execution_count": 33,
     "metadata": {},
     "output_type": "execute_result"
    }
   ],
   "source": [
    "df.loc[5, 'Quiz 1':'Quiz 4']"
   ]
  },
  {
   "cell_type": "markdown",
   "metadata": {},
   "source": [
    "### Filtering"
   ]
  },
  {
   "cell_type": "code",
   "execution_count": 34,
   "metadata": {
    "scrolled": false
   },
   "outputs": [
    {
     "data": {
      "text/html": [
       "<div>\n",
       "<style scoped>\n",
       "    .dataframe tbody tr th:only-of-type {\n",
       "        vertical-align: middle;\n",
       "    }\n",
       "\n",
       "    .dataframe tbody tr th {\n",
       "        vertical-align: top;\n",
       "    }\n",
       "\n",
       "    .dataframe thead th {\n",
       "        text-align: right;\n",
       "    }\n",
       "</style>\n",
       "<table border=\"1\" class=\"dataframe\">\n",
       "  <thead>\n",
       "    <tr style=\"text-align: right;\">\n",
       "      <th></th>\n",
       "      <th>Name</th>\n",
       "      <th>Class Type</th>\n",
       "      <th>Quiz 1</th>\n",
       "      <th>Quiz_2</th>\n",
       "      <th>Quiz 3</th>\n",
       "      <th>Quiz 4</th>\n",
       "      <th>Quiz 5</th>\n",
       "    </tr>\n",
       "  </thead>\n",
       "  <tbody>\n",
       "    <tr>\n",
       "      <th>0</th>\n",
       "      <td>Student A</td>\n",
       "      <td>Standard</td>\n",
       "      <td>92</td>\n",
       "      <td>54</td>\n",
       "      <td>88</td>\n",
       "      <td>56</td>\n",
       "      <td>99</td>\n",
       "    </tr>\n",
       "    <tr>\n",
       "      <th>3</th>\n",
       "      <td>Student D</td>\n",
       "      <td>Pre-AP</td>\n",
       "      <td>99</td>\n",
       "      <td>99</td>\n",
       "      <td>99</td>\n",
       "      <td>99</td>\n",
       "      <td>99</td>\n",
       "    </tr>\n",
       "    <tr>\n",
       "      <th>4</th>\n",
       "      <td>Student E</td>\n",
       "      <td>Standard</td>\n",
       "      <td>100</td>\n",
       "      <td>100</td>\n",
       "      <td>100</td>\n",
       "      <td>100</td>\n",
       "      <td>100</td>\n",
       "    </tr>\n",
       "    <tr>\n",
       "      <th>6</th>\n",
       "      <td>Student G</td>\n",
       "      <td>AP</td>\n",
       "      <td>100</td>\n",
       "      <td>100</td>\n",
       "      <td>83</td>\n",
       "      <td>81</td>\n",
       "      <td>80</td>\n",
       "    </tr>\n",
       "  </tbody>\n",
       "</table>\n",
       "</div>"
      ],
      "text/plain": [
       "        Name Class Type  Quiz 1  Quiz_2  Quiz 3  Quiz 4  Quiz 5\n",
       "0  Student A   Standard      92      54      88      56      99\n",
       "3  Student D     Pre-AP      99      99      99      99      99\n",
       "4  Student E   Standard     100     100     100     100     100\n",
       "6  Student G         AP     100     100      83      81      80"
      ]
     },
     "execution_count": 34,
     "metadata": {},
     "output_type": "execute_result"
    }
   ],
   "source": [
    "df[df['Quiz 1'] > 90]"
   ]
  },
  {
   "cell_type": "code",
   "execution_count": 35,
   "metadata": {},
   "outputs": [
    {
     "data": {
      "text/plain": [
       "Name          object\n",
       "Class Type    object\n",
       "Quiz 1         int64\n",
       "Quiz_2         int64\n",
       "Quiz 3         int64\n",
       "Quiz 4         int64\n",
       "Quiz 5         int64\n",
       "dtype: object"
      ]
     },
     "execution_count": 35,
     "metadata": {},
     "output_type": "execute_result"
    }
   ],
   "source": [
    "df.dtypes"
   ]
  },
  {
   "cell_type": "code",
   "execution_count": 36,
   "metadata": {
    "scrolled": true
   },
   "outputs": [
    {
     "data": {
      "text/plain": [
       "0     True\n",
       "1    False\n",
       "2    False\n",
       "3     True\n",
       "4     True\n",
       "5    False\n",
       "6     True\n",
       "Name: Quiz 1, dtype: bool"
      ]
     },
     "execution_count": 36,
     "metadata": {},
     "output_type": "execute_result"
    }
   ],
   "source": [
    "df['Quiz 1'] > 90"
   ]
  },
  {
   "cell_type": "code",
   "execution_count": 37,
   "metadata": {
    "scrolled": true
   },
   "outputs": [
    {
     "data": {
      "text/html": [
       "<div>\n",
       "<style scoped>\n",
       "    .dataframe tbody tr th:only-of-type {\n",
       "        vertical-align: middle;\n",
       "    }\n",
       "\n",
       "    .dataframe tbody tr th {\n",
       "        vertical-align: top;\n",
       "    }\n",
       "\n",
       "    .dataframe thead th {\n",
       "        text-align: right;\n",
       "    }\n",
       "</style>\n",
       "<table border=\"1\" class=\"dataframe\">\n",
       "  <thead>\n",
       "    <tr style=\"text-align: right;\">\n",
       "      <th></th>\n",
       "      <th>Name</th>\n",
       "      <th>Class Type</th>\n",
       "      <th>Quiz 1</th>\n",
       "      <th>Quiz_2</th>\n",
       "      <th>Quiz 3</th>\n",
       "      <th>Quiz 4</th>\n",
       "      <th>Quiz 5</th>\n",
       "    </tr>\n",
       "  </thead>\n",
       "  <tbody>\n",
       "    <tr>\n",
       "      <th>4</th>\n",
       "      <td>Student E</td>\n",
       "      <td>Standard</td>\n",
       "      <td>100</td>\n",
       "      <td>100</td>\n",
       "      <td>100</td>\n",
       "      <td>100</td>\n",
       "      <td>100</td>\n",
       "    </tr>\n",
       "  </tbody>\n",
       "</table>\n",
       "</div>"
      ],
      "text/plain": [
       "        Name Class Type  Quiz 1  Quiz_2  Quiz 3  Quiz 4  Quiz 5\n",
       "4  Student E   Standard     100     100     100     100     100"
      ]
     },
     "execution_count": 37,
     "metadata": {},
     "output_type": "execute_result"
    }
   ],
   "source": [
    "df.query(\"Name == 'Student E'\")"
   ]
  },
  {
   "cell_type": "code",
   "execution_count": 38,
   "metadata": {
    "scrolled": true
   },
   "outputs": [
    {
     "data": {
      "text/html": [
       "<div>\n",
       "<style scoped>\n",
       "    .dataframe tbody tr th:only-of-type {\n",
       "        vertical-align: middle;\n",
       "    }\n",
       "\n",
       "    .dataframe tbody tr th {\n",
       "        vertical-align: top;\n",
       "    }\n",
       "\n",
       "    .dataframe thead th {\n",
       "        text-align: right;\n",
       "    }\n",
       "</style>\n",
       "<table border=\"1\" class=\"dataframe\">\n",
       "  <thead>\n",
       "    <tr style=\"text-align: right;\">\n",
       "      <th></th>\n",
       "      <th>Name</th>\n",
       "      <th>Class Type</th>\n",
       "      <th>Quiz 1</th>\n",
       "      <th>Quiz_2</th>\n",
       "      <th>Quiz 3</th>\n",
       "      <th>Quiz 4</th>\n",
       "      <th>Quiz 5</th>\n",
       "    </tr>\n",
       "  </thead>\n",
       "  <tbody>\n",
       "    <tr>\n",
       "      <th>4</th>\n",
       "      <td>Student E</td>\n",
       "      <td>Standard</td>\n",
       "      <td>100</td>\n",
       "      <td>100</td>\n",
       "      <td>100</td>\n",
       "      <td>100</td>\n",
       "      <td>100</td>\n",
       "    </tr>\n",
       "    <tr>\n",
       "      <th>6</th>\n",
       "      <td>Student G</td>\n",
       "      <td>AP</td>\n",
       "      <td>100</td>\n",
       "      <td>100</td>\n",
       "      <td>83</td>\n",
       "      <td>81</td>\n",
       "      <td>80</td>\n",
       "    </tr>\n",
       "  </tbody>\n",
       "</table>\n",
       "</div>"
      ],
      "text/plain": [
       "        Name Class Type  Quiz 1  Quiz_2  Quiz 3  Quiz 4  Quiz 5\n",
       "4  Student E   Standard     100     100     100     100     100\n",
       "6  Student G         AP     100     100      83      81      80"
      ]
     },
     "execution_count": 38,
     "metadata": {},
     "output_type": "execute_result"
    }
   ],
   "source": [
    "# NOTE: YOU NEED TO MAKE SURE YOUR COLUMN NAMES CAN BE REFERENCED AS ALL ONE WORD\n",
    "df.query(\"Quiz_2 > 99\")"
   ]
  },
  {
   "cell_type": "code",
   "execution_count": 39,
   "metadata": {},
   "outputs": [
    {
     "data": {
      "text/html": [
       "<div>\n",
       "<style scoped>\n",
       "    .dataframe tbody tr th:only-of-type {\n",
       "        vertical-align: middle;\n",
       "    }\n",
       "\n",
       "    .dataframe tbody tr th {\n",
       "        vertical-align: top;\n",
       "    }\n",
       "\n",
       "    .dataframe thead th {\n",
       "        text-align: right;\n",
       "    }\n",
       "</style>\n",
       "<table border=\"1\" class=\"dataframe\">\n",
       "  <thead>\n",
       "    <tr style=\"text-align: right;\">\n",
       "      <th></th>\n",
       "      <th>Name</th>\n",
       "      <th>Class Type</th>\n",
       "      <th>Quiz 1</th>\n",
       "      <th>Quiz_2</th>\n",
       "      <th>Quiz 3</th>\n",
       "      <th>Quiz 4</th>\n",
       "      <th>Quiz 5</th>\n",
       "    </tr>\n",
       "  </thead>\n",
       "  <tbody>\n",
       "    <tr>\n",
       "      <th>4</th>\n",
       "      <td>Student E</td>\n",
       "      <td>Standard</td>\n",
       "      <td>100</td>\n",
       "      <td>100</td>\n",
       "      <td>100</td>\n",
       "      <td>100</td>\n",
       "      <td>100</td>\n",
       "    </tr>\n",
       "    <tr>\n",
       "      <th>6</th>\n",
       "      <td>Student G</td>\n",
       "      <td>AP</td>\n",
       "      <td>100</td>\n",
       "      <td>100</td>\n",
       "      <td>83</td>\n",
       "      <td>81</td>\n",
       "      <td>80</td>\n",
       "    </tr>\n",
       "  </tbody>\n",
       "</table>\n",
       "</div>"
      ],
      "text/plain": [
       "        Name Class Type  Quiz 1  Quiz_2  Quiz 3  Quiz 4  Quiz 5\n",
       "4  Student E   Standard     100     100     100     100     100\n",
       "6  Student G         AP     100     100      83      81      80"
      ]
     },
     "execution_count": 39,
     "metadata": {},
     "output_type": "execute_result"
    }
   ],
   "source": [
    "# UNLESS YOU WANNA USE BACKTICKS, THEN THOSE ARE OK\n",
    "df.query(\"`Quiz 1` > 99\")"
   ]
  },
  {
   "cell_type": "markdown",
   "metadata": {},
   "source": [
    "### Assignment"
   ]
  },
  {
   "cell_type": "code",
   "execution_count": 40,
   "metadata": {},
   "outputs": [],
   "source": [
    "# df.rename(lambda c:c.replace(' ', '_'))\n",
    "df.loc[5, 'Quiz 5'] = np.nan"
   ]
  },
  {
   "cell_type": "code",
   "execution_count": 41,
   "metadata": {},
   "outputs": [
    {
     "data": {
      "text/html": [
       "<div>\n",
       "<style scoped>\n",
       "    .dataframe tbody tr th:only-of-type {\n",
       "        vertical-align: middle;\n",
       "    }\n",
       "\n",
       "    .dataframe tbody tr th {\n",
       "        vertical-align: top;\n",
       "    }\n",
       "\n",
       "    .dataframe thead th {\n",
       "        text-align: right;\n",
       "    }\n",
       "</style>\n",
       "<table border=\"1\" class=\"dataframe\">\n",
       "  <thead>\n",
       "    <tr style=\"text-align: right;\">\n",
       "      <th></th>\n",
       "      <th>Name</th>\n",
       "      <th>Class Type</th>\n",
       "      <th>Quiz 1</th>\n",
       "      <th>Quiz_2</th>\n",
       "      <th>Quiz 3</th>\n",
       "      <th>Quiz 4</th>\n",
       "      <th>Quiz 5</th>\n",
       "    </tr>\n",
       "  </thead>\n",
       "  <tbody>\n",
       "    <tr>\n",
       "      <th>0</th>\n",
       "      <td>Student A</td>\n",
       "      <td>Standard</td>\n",
       "      <td>92</td>\n",
       "      <td>54</td>\n",
       "      <td>88</td>\n",
       "      <td>56</td>\n",
       "      <td>99.0</td>\n",
       "    </tr>\n",
       "    <tr>\n",
       "      <th>1</th>\n",
       "      <td>Student B</td>\n",
       "      <td>Pre-AP</td>\n",
       "      <td>65</td>\n",
       "      <td>87</td>\n",
       "      <td>67</td>\n",
       "      <td>98</td>\n",
       "      <td>55.0</td>\n",
       "    </tr>\n",
       "    <tr>\n",
       "      <th>2</th>\n",
       "      <td>Student C</td>\n",
       "      <td>Standard</td>\n",
       "      <td>82</td>\n",
       "      <td>84</td>\n",
       "      <td>58</td>\n",
       "      <td>6</td>\n",
       "      <td>59.0</td>\n",
       "    </tr>\n",
       "    <tr>\n",
       "      <th>3</th>\n",
       "      <td>Student D</td>\n",
       "      <td>Pre-AP</td>\n",
       "      <td>99</td>\n",
       "      <td>99</td>\n",
       "      <td>99</td>\n",
       "      <td>99</td>\n",
       "      <td>99.0</td>\n",
       "    </tr>\n",
       "    <tr>\n",
       "      <th>4</th>\n",
       "      <td>Student E</td>\n",
       "      <td>Standard</td>\n",
       "      <td>100</td>\n",
       "      <td>100</td>\n",
       "      <td>100</td>\n",
       "      <td>100</td>\n",
       "      <td>100.0</td>\n",
       "    </tr>\n",
       "    <tr>\n",
       "      <th>5</th>\n",
       "      <td>Student F</td>\n",
       "      <td>AP</td>\n",
       "      <td>75</td>\n",
       "      <td>79</td>\n",
       "      <td>83</td>\n",
       "      <td>81</td>\n",
       "      <td>NaN</td>\n",
       "    </tr>\n",
       "    <tr>\n",
       "      <th>6</th>\n",
       "      <td>Student G</td>\n",
       "      <td>AP</td>\n",
       "      <td>100</td>\n",
       "      <td>100</td>\n",
       "      <td>83</td>\n",
       "      <td>81</td>\n",
       "      <td>80.0</td>\n",
       "    </tr>\n",
       "  </tbody>\n",
       "</table>\n",
       "</div>"
      ],
      "text/plain": [
       "        Name Class Type  Quiz 1  Quiz_2  Quiz 3  Quiz 4  Quiz 5\n",
       "0  Student A   Standard      92      54      88      56    99.0\n",
       "1  Student B     Pre-AP      65      87      67      98    55.0\n",
       "2  Student C   Standard      82      84      58       6    59.0\n",
       "3  Student D     Pre-AP      99      99      99      99    99.0\n",
       "4  Student E   Standard     100     100     100     100   100.0\n",
       "5  Student F         AP      75      79      83      81     NaN\n",
       "6  Student G         AP     100     100      83      81    80.0"
      ]
     },
     "execution_count": 41,
     "metadata": {},
     "output_type": "execute_result"
    }
   ],
   "source": [
    "df"
   ]
  },
  {
   "cell_type": "code",
   "execution_count": 42,
   "metadata": {},
   "outputs": [
    {
     "data": {
      "text/plain": [
       "82.0"
      ]
     },
     "execution_count": 42,
     "metadata": {},
     "output_type": "execute_result"
    }
   ],
   "source": [
    "df['Quiz 5'].mean()"
   ]
  },
  {
   "cell_type": "code",
   "execution_count": 43,
   "metadata": {},
   "outputs": [],
   "source": [
    "# The teacher wanted to void out everyone's quiz 5 score\n",
    "df.loc[:, 'Quiz 5'] = np.nan"
   ]
  },
  {
   "cell_type": "code",
   "execution_count": 44,
   "metadata": {
    "scrolled": true
   },
   "outputs": [
    {
     "data": {
      "text/html": [
       "<div>\n",
       "<style scoped>\n",
       "    .dataframe tbody tr th:only-of-type {\n",
       "        vertical-align: middle;\n",
       "    }\n",
       "\n",
       "    .dataframe tbody tr th {\n",
       "        vertical-align: top;\n",
       "    }\n",
       "\n",
       "    .dataframe thead th {\n",
       "        text-align: right;\n",
       "    }\n",
       "</style>\n",
       "<table border=\"1\" class=\"dataframe\">\n",
       "  <thead>\n",
       "    <tr style=\"text-align: right;\">\n",
       "      <th></th>\n",
       "      <th>Name</th>\n",
       "      <th>Class Type</th>\n",
       "      <th>Quiz 1</th>\n",
       "      <th>Quiz_2</th>\n",
       "      <th>Quiz 3</th>\n",
       "      <th>Quiz 4</th>\n",
       "      <th>Quiz 5</th>\n",
       "    </tr>\n",
       "  </thead>\n",
       "  <tbody>\n",
       "    <tr>\n",
       "      <th>0</th>\n",
       "      <td>Student A</td>\n",
       "      <td>Standard</td>\n",
       "      <td>92</td>\n",
       "      <td>54</td>\n",
       "      <td>88</td>\n",
       "      <td>56</td>\n",
       "      <td>NaN</td>\n",
       "    </tr>\n",
       "    <tr>\n",
       "      <th>1</th>\n",
       "      <td>Student B</td>\n",
       "      <td>Pre-AP</td>\n",
       "      <td>65</td>\n",
       "      <td>87</td>\n",
       "      <td>67</td>\n",
       "      <td>98</td>\n",
       "      <td>NaN</td>\n",
       "    </tr>\n",
       "    <tr>\n",
       "      <th>2</th>\n",
       "      <td>Student C</td>\n",
       "      <td>Standard</td>\n",
       "      <td>82</td>\n",
       "      <td>84</td>\n",
       "      <td>58</td>\n",
       "      <td>6</td>\n",
       "      <td>NaN</td>\n",
       "    </tr>\n",
       "    <tr>\n",
       "      <th>3</th>\n",
       "      <td>Student D</td>\n",
       "      <td>Pre-AP</td>\n",
       "      <td>99</td>\n",
       "      <td>99</td>\n",
       "      <td>99</td>\n",
       "      <td>99</td>\n",
       "      <td>NaN</td>\n",
       "    </tr>\n",
       "    <tr>\n",
       "      <th>4</th>\n",
       "      <td>Student E</td>\n",
       "      <td>Standard</td>\n",
       "      <td>100</td>\n",
       "      <td>100</td>\n",
       "      <td>100</td>\n",
       "      <td>100</td>\n",
       "      <td>NaN</td>\n",
       "    </tr>\n",
       "    <tr>\n",
       "      <th>5</th>\n",
       "      <td>Student F</td>\n",
       "      <td>AP</td>\n",
       "      <td>75</td>\n",
       "      <td>79</td>\n",
       "      <td>83</td>\n",
       "      <td>81</td>\n",
       "      <td>NaN</td>\n",
       "    </tr>\n",
       "    <tr>\n",
       "      <th>6</th>\n",
       "      <td>Student G</td>\n",
       "      <td>AP</td>\n",
       "      <td>100</td>\n",
       "      <td>100</td>\n",
       "      <td>83</td>\n",
       "      <td>81</td>\n",
       "      <td>NaN</td>\n",
       "    </tr>\n",
       "  </tbody>\n",
       "</table>\n",
       "</div>"
      ],
      "text/plain": [
       "        Name Class Type  Quiz 1  Quiz_2  Quiz 3  Quiz 4  Quiz 5\n",
       "0  Student A   Standard      92      54      88      56     NaN\n",
       "1  Student B     Pre-AP      65      87      67      98     NaN\n",
       "2  Student C   Standard      82      84      58       6     NaN\n",
       "3  Student D     Pre-AP      99      99      99      99     NaN\n",
       "4  Student E   Standard     100     100     100     100     NaN\n",
       "5  Student F         AP      75      79      83      81     NaN\n",
       "6  Student G         AP     100     100      83      81     NaN"
      ]
     },
     "execution_count": 44,
     "metadata": {},
     "output_type": "execute_result"
    }
   ],
   "source": [
    "df"
   ]
  },
  {
   "cell_type": "code",
   "execution_count": 45,
   "metadata": {},
   "outputs": [
    {
     "data": {
      "text/html": [
       "<div>\n",
       "<style scoped>\n",
       "    .dataframe tbody tr th:only-of-type {\n",
       "        vertical-align: middle;\n",
       "    }\n",
       "\n",
       "    .dataframe tbody tr th {\n",
       "        vertical-align: top;\n",
       "    }\n",
       "\n",
       "    .dataframe thead th {\n",
       "        text-align: right;\n",
       "    }\n",
       "</style>\n",
       "<table border=\"1\" class=\"dataframe\">\n",
       "  <thead>\n",
       "    <tr style=\"text-align: right;\">\n",
       "      <th></th>\n",
       "      <th>Name</th>\n",
       "      <th>Class Type</th>\n",
       "      <th>Quiz 1</th>\n",
       "      <th>Quiz_2</th>\n",
       "      <th>Quiz 3</th>\n",
       "      <th>Quiz 4</th>\n",
       "      <th>Quiz 5</th>\n",
       "    </tr>\n",
       "  </thead>\n",
       "  <tbody>\n",
       "    <tr>\n",
       "      <th>0</th>\n",
       "      <td>Student A</td>\n",
       "      <td>Standard</td>\n",
       "      <td>92</td>\n",
       "      <td>54</td>\n",
       "      <td>88</td>\n",
       "      <td>56</td>\n",
       "      <td>100</td>\n",
       "    </tr>\n",
       "    <tr>\n",
       "      <th>1</th>\n",
       "      <td>Student B</td>\n",
       "      <td>Pre-AP</td>\n",
       "      <td>65</td>\n",
       "      <td>87</td>\n",
       "      <td>67</td>\n",
       "      <td>98</td>\n",
       "      <td>100</td>\n",
       "    </tr>\n",
       "    <tr>\n",
       "      <th>2</th>\n",
       "      <td>Student C</td>\n",
       "      <td>Standard</td>\n",
       "      <td>82</td>\n",
       "      <td>84</td>\n",
       "      <td>58</td>\n",
       "      <td>6</td>\n",
       "      <td>100</td>\n",
       "    </tr>\n",
       "    <tr>\n",
       "      <th>3</th>\n",
       "      <td>Student D</td>\n",
       "      <td>Pre-AP</td>\n",
       "      <td>99</td>\n",
       "      <td>99</td>\n",
       "      <td>99</td>\n",
       "      <td>99</td>\n",
       "      <td>100</td>\n",
       "    </tr>\n",
       "    <tr>\n",
       "      <th>4</th>\n",
       "      <td>Student E</td>\n",
       "      <td>Standard</td>\n",
       "      <td>100</td>\n",
       "      <td>100</td>\n",
       "      <td>100</td>\n",
       "      <td>100</td>\n",
       "      <td>100</td>\n",
       "    </tr>\n",
       "    <tr>\n",
       "      <th>5</th>\n",
       "      <td>Student F</td>\n",
       "      <td>AP</td>\n",
       "      <td>75</td>\n",
       "      <td>79</td>\n",
       "      <td>83</td>\n",
       "      <td>81</td>\n",
       "      <td>100</td>\n",
       "    </tr>\n",
       "    <tr>\n",
       "      <th>6</th>\n",
       "      <td>Student G</td>\n",
       "      <td>AP</td>\n",
       "      <td>100</td>\n",
       "      <td>100</td>\n",
       "      <td>83</td>\n",
       "      <td>81</td>\n",
       "      <td>100</td>\n",
       "    </tr>\n",
       "  </tbody>\n",
       "</table>\n",
       "</div>"
      ],
      "text/plain": [
       "        Name Class Type  Quiz 1  Quiz_2  Quiz 3  Quiz 4  Quiz 5\n",
       "0  Student A   Standard      92      54      88      56     100\n",
       "1  Student B     Pre-AP      65      87      67      98     100\n",
       "2  Student C   Standard      82      84      58       6     100\n",
       "3  Student D     Pre-AP      99      99      99      99     100\n",
       "4  Student E   Standard     100     100     100     100     100\n",
       "5  Student F         AP      75      79      83      81     100\n",
       "6  Student G         AP     100     100      83      81     100"
      ]
     },
     "execution_count": 45,
     "metadata": {},
     "output_type": "execute_result"
    }
   ],
   "source": [
    "df.loc[:, 'Quiz 5'] = 100\n",
    "df"
   ]
  },
  {
   "cell_type": "code",
   "execution_count": 46,
   "metadata": {},
   "outputs": [
    {
     "data": {
      "text/html": [
       "<div>\n",
       "<style scoped>\n",
       "    .dataframe tbody tr th:only-of-type {\n",
       "        vertical-align: middle;\n",
       "    }\n",
       "\n",
       "    .dataframe tbody tr th {\n",
       "        vertical-align: top;\n",
       "    }\n",
       "\n",
       "    .dataframe thead th {\n",
       "        text-align: right;\n",
       "    }\n",
       "</style>\n",
       "<table border=\"1\" class=\"dataframe\">\n",
       "  <thead>\n",
       "    <tr style=\"text-align: right;\">\n",
       "      <th></th>\n",
       "      <th>Name</th>\n",
       "      <th>Class Type</th>\n",
       "      <th>Quiz 1</th>\n",
       "      <th>Quiz_2</th>\n",
       "      <th>Quiz 3</th>\n",
       "      <th>Quiz 4</th>\n",
       "      <th>Quiz 5</th>\n",
       "    </tr>\n",
       "  </thead>\n",
       "  <tbody>\n",
       "    <tr>\n",
       "      <th>0</th>\n",
       "      <td>Student A</td>\n",
       "      <td>Standard</td>\n",
       "      <td>92</td>\n",
       "      <td>54</td>\n",
       "      <td>88</td>\n",
       "      <td>56</td>\n",
       "      <td>NaN</td>\n",
       "    </tr>\n",
       "    <tr>\n",
       "      <th>1</th>\n",
       "      <td>Student B</td>\n",
       "      <td>Pre-AP</td>\n",
       "      <td>65</td>\n",
       "      <td>87</td>\n",
       "      <td>67</td>\n",
       "      <td>98</td>\n",
       "      <td>NaN</td>\n",
       "    </tr>\n",
       "    <tr>\n",
       "      <th>2</th>\n",
       "      <td>Student C</td>\n",
       "      <td>Standard</td>\n",
       "      <td>82</td>\n",
       "      <td>84</td>\n",
       "      <td>58</td>\n",
       "      <td>6</td>\n",
       "      <td>NaN</td>\n",
       "    </tr>\n",
       "    <tr>\n",
       "      <th>3</th>\n",
       "      <td>Student D</td>\n",
       "      <td>Pre-AP</td>\n",
       "      <td>99</td>\n",
       "      <td>99</td>\n",
       "      <td>99</td>\n",
       "      <td>99</td>\n",
       "      <td>NaN</td>\n",
       "    </tr>\n",
       "    <tr>\n",
       "      <th>4</th>\n",
       "      <td>Student E</td>\n",
       "      <td>Standard</td>\n",
       "      <td>100</td>\n",
       "      <td>100</td>\n",
       "      <td>100</td>\n",
       "      <td>100</td>\n",
       "      <td>NaN</td>\n",
       "    </tr>\n",
       "    <tr>\n",
       "      <th>5</th>\n",
       "      <td>Student F</td>\n",
       "      <td>AP</td>\n",
       "      <td>75</td>\n",
       "      <td>79</td>\n",
       "      <td>83</td>\n",
       "      <td>81</td>\n",
       "      <td>NaN</td>\n",
       "    </tr>\n",
       "    <tr>\n",
       "      <th>6</th>\n",
       "      <td>Student G</td>\n",
       "      <td>AP</td>\n",
       "      <td>100</td>\n",
       "      <td>100</td>\n",
       "      <td>83</td>\n",
       "      <td>81</td>\n",
       "      <td>NaN</td>\n",
       "    </tr>\n",
       "  </tbody>\n",
       "</table>\n",
       "</div>"
      ],
      "text/plain": [
       "        Name Class Type  Quiz 1  Quiz_2  Quiz 3  Quiz 4  Quiz 5\n",
       "0  Student A   Standard      92      54      88      56     NaN\n",
       "1  Student B     Pre-AP      65      87      67      98     NaN\n",
       "2  Student C   Standard      82      84      58       6     NaN\n",
       "3  Student D     Pre-AP      99      99      99      99     NaN\n",
       "4  Student E   Standard     100     100     100     100     NaN\n",
       "5  Student F         AP      75      79      83      81     NaN\n",
       "6  Student G         AP     100     100      83      81     NaN"
      ]
     },
     "execution_count": 46,
     "metadata": {},
     "output_type": "execute_result"
    }
   ],
   "source": [
    "df['Quiz 5'] = np.nan\n",
    "df"
   ]
  },
  {
   "cell_type": "code",
   "execution_count": 47,
   "metadata": {},
   "outputs": [
    {
     "data": {
      "text/html": [
       "<div>\n",
       "<style scoped>\n",
       "    .dataframe tbody tr th:only-of-type {\n",
       "        vertical-align: middle;\n",
       "    }\n",
       "\n",
       "    .dataframe tbody tr th {\n",
       "        vertical-align: top;\n",
       "    }\n",
       "\n",
       "    .dataframe thead th {\n",
       "        text-align: right;\n",
       "    }\n",
       "</style>\n",
       "<table border=\"1\" class=\"dataframe\">\n",
       "  <thead>\n",
       "    <tr style=\"text-align: right;\">\n",
       "      <th></th>\n",
       "      <th>Name</th>\n",
       "      <th>Class Type</th>\n",
       "      <th>Quiz 1</th>\n",
       "      <th>Quiz_2</th>\n",
       "      <th>Quiz 3</th>\n",
       "      <th>Quiz 4</th>\n",
       "      <th>Quiz 5</th>\n",
       "    </tr>\n",
       "  </thead>\n",
       "  <tbody>\n",
       "    <tr>\n",
       "      <th>0</th>\n",
       "      <td>Student A</td>\n",
       "      <td>Standard</td>\n",
       "      <td>92</td>\n",
       "      <td>54</td>\n",
       "      <td>88</td>\n",
       "      <td>56</td>\n",
       "      <td>100</td>\n",
       "    </tr>\n",
       "    <tr>\n",
       "      <th>1</th>\n",
       "      <td>Student B</td>\n",
       "      <td>Pre-AP</td>\n",
       "      <td>65</td>\n",
       "      <td>87</td>\n",
       "      <td>67</td>\n",
       "      <td>98</td>\n",
       "      <td>100</td>\n",
       "    </tr>\n",
       "    <tr>\n",
       "      <th>2</th>\n",
       "      <td>Student C</td>\n",
       "      <td>Standard</td>\n",
       "      <td>82</td>\n",
       "      <td>84</td>\n",
       "      <td>58</td>\n",
       "      <td>6</td>\n",
       "      <td>100</td>\n",
       "    </tr>\n",
       "    <tr>\n",
       "      <th>3</th>\n",
       "      <td>Student D</td>\n",
       "      <td>Pre-AP</td>\n",
       "      <td>99</td>\n",
       "      <td>99</td>\n",
       "      <td>99</td>\n",
       "      <td>99</td>\n",
       "      <td>100</td>\n",
       "    </tr>\n",
       "    <tr>\n",
       "      <th>4</th>\n",
       "      <td>Student E</td>\n",
       "      <td>Standard</td>\n",
       "      <td>100</td>\n",
       "      <td>100</td>\n",
       "      <td>100</td>\n",
       "      <td>100</td>\n",
       "      <td>100</td>\n",
       "    </tr>\n",
       "    <tr>\n",
       "      <th>5</th>\n",
       "      <td>Student F</td>\n",
       "      <td>AP</td>\n",
       "      <td>75</td>\n",
       "      <td>79</td>\n",
       "      <td>83</td>\n",
       "      <td>81</td>\n",
       "      <td>100</td>\n",
       "    </tr>\n",
       "    <tr>\n",
       "      <th>6</th>\n",
       "      <td>Student G</td>\n",
       "      <td>AP</td>\n",
       "      <td>100</td>\n",
       "      <td>100</td>\n",
       "      <td>83</td>\n",
       "      <td>81</td>\n",
       "      <td>100</td>\n",
       "    </tr>\n",
       "  </tbody>\n",
       "</table>\n",
       "</div>"
      ],
      "text/plain": [
       "        Name Class Type  Quiz 1  Quiz_2  Quiz 3  Quiz 4  Quiz 5\n",
       "0  Student A   Standard      92      54      88      56     100\n",
       "1  Student B     Pre-AP      65      87      67      98     100\n",
       "2  Student C   Standard      82      84      58       6     100\n",
       "3  Student D     Pre-AP      99      99      99      99     100\n",
       "4  Student E   Standard     100     100     100     100     100\n",
       "5  Student F         AP      75      79      83      81     100\n",
       "6  Student G         AP     100     100      83      81     100"
      ]
     },
     "execution_count": 47,
     "metadata": {},
     "output_type": "execute_result"
    }
   ],
   "source": [
    "df['Quiz 5'] = 100\n",
    "df"
   ]
  },
  {
   "cell_type": "markdown",
   "metadata": {},
   "source": [
    "### Rename columns"
   ]
  },
  {
   "cell_type": "code",
   "execution_count": 48,
   "metadata": {},
   "outputs": [],
   "source": [
    "# .isna()\n",
    "# .isnull()\n",
    "\n",
    "df['Averages'] = (df['Quiz 1'] + df['Quiz_2'] + df['Quiz 3'] + df['Quiz 4'] + df['Quiz 5']) / 5"
   ]
  },
  {
   "cell_type": "code",
   "execution_count": 49,
   "metadata": {},
   "outputs": [
    {
     "data": {
      "text/html": [
       "<div>\n",
       "<style scoped>\n",
       "    .dataframe tbody tr th:only-of-type {\n",
       "        vertical-align: middle;\n",
       "    }\n",
       "\n",
       "    .dataframe tbody tr th {\n",
       "        vertical-align: top;\n",
       "    }\n",
       "\n",
       "    .dataframe thead th {\n",
       "        text-align: right;\n",
       "    }\n",
       "</style>\n",
       "<table border=\"1\" class=\"dataframe\">\n",
       "  <thead>\n",
       "    <tr style=\"text-align: right;\">\n",
       "      <th></th>\n",
       "      <th>Name</th>\n",
       "      <th>Class Type</th>\n",
       "      <th>Quiz 1</th>\n",
       "      <th>Quiz_2</th>\n",
       "      <th>Quiz 3</th>\n",
       "      <th>Quiz 4</th>\n",
       "      <th>Quiz 5</th>\n",
       "      <th>Average</th>\n",
       "    </tr>\n",
       "  </thead>\n",
       "  <tbody>\n",
       "    <tr>\n",
       "      <th>0</th>\n",
       "      <td>Student A</td>\n",
       "      <td>Standard</td>\n",
       "      <td>92</td>\n",
       "      <td>54</td>\n",
       "      <td>88</td>\n",
       "      <td>56</td>\n",
       "      <td>100</td>\n",
       "      <td>78.0</td>\n",
       "    </tr>\n",
       "    <tr>\n",
       "      <th>1</th>\n",
       "      <td>Student B</td>\n",
       "      <td>Pre-AP</td>\n",
       "      <td>65</td>\n",
       "      <td>87</td>\n",
       "      <td>67</td>\n",
       "      <td>98</td>\n",
       "      <td>100</td>\n",
       "      <td>83.4</td>\n",
       "    </tr>\n",
       "    <tr>\n",
       "      <th>2</th>\n",
       "      <td>Student C</td>\n",
       "      <td>Standard</td>\n",
       "      <td>82</td>\n",
       "      <td>84</td>\n",
       "      <td>58</td>\n",
       "      <td>6</td>\n",
       "      <td>100</td>\n",
       "      <td>66.0</td>\n",
       "    </tr>\n",
       "    <tr>\n",
       "      <th>3</th>\n",
       "      <td>Student D</td>\n",
       "      <td>Pre-AP</td>\n",
       "      <td>99</td>\n",
       "      <td>99</td>\n",
       "      <td>99</td>\n",
       "      <td>99</td>\n",
       "      <td>100</td>\n",
       "      <td>99.2</td>\n",
       "    </tr>\n",
       "    <tr>\n",
       "      <th>4</th>\n",
       "      <td>Student E</td>\n",
       "      <td>Standard</td>\n",
       "      <td>100</td>\n",
       "      <td>100</td>\n",
       "      <td>100</td>\n",
       "      <td>100</td>\n",
       "      <td>100</td>\n",
       "      <td>100.0</td>\n",
       "    </tr>\n",
       "    <tr>\n",
       "      <th>5</th>\n",
       "      <td>Student F</td>\n",
       "      <td>AP</td>\n",
       "      <td>75</td>\n",
       "      <td>79</td>\n",
       "      <td>83</td>\n",
       "      <td>81</td>\n",
       "      <td>100</td>\n",
       "      <td>83.6</td>\n",
       "    </tr>\n",
       "    <tr>\n",
       "      <th>6</th>\n",
       "      <td>Student G</td>\n",
       "      <td>AP</td>\n",
       "      <td>100</td>\n",
       "      <td>100</td>\n",
       "      <td>83</td>\n",
       "      <td>81</td>\n",
       "      <td>100</td>\n",
       "      <td>92.8</td>\n",
       "    </tr>\n",
       "  </tbody>\n",
       "</table>\n",
       "</div>"
      ],
      "text/plain": [
       "        Name Class Type  Quiz 1  Quiz_2  Quiz 3  Quiz 4  Quiz 5  Average\n",
       "0  Student A   Standard      92      54      88      56     100     78.0\n",
       "1  Student B     Pre-AP      65      87      67      98     100     83.4\n",
       "2  Student C   Standard      82      84      58       6     100     66.0\n",
       "3  Student D     Pre-AP      99      99      99      99     100     99.2\n",
       "4  Student E   Standard     100     100     100     100     100    100.0\n",
       "5  Student F         AP      75      79      83      81     100     83.6\n",
       "6  Student G         AP     100     100      83      81     100     92.8"
      ]
     },
     "execution_count": 49,
     "metadata": {},
     "output_type": "execute_result"
    }
   ],
   "source": [
    "df.rename(columns={ 'Averages': 'Average' })"
   ]
  },
  {
   "cell_type": "code",
   "execution_count": 50,
   "metadata": {},
   "outputs": [],
   "source": [
    "df = df.rename(columns={ 'Averages': 'Average' })"
   ]
  },
  {
   "cell_type": "code",
   "execution_count": 51,
   "metadata": {},
   "outputs": [],
   "source": [
    "df.rename(columns={ 'Averages': 'Average' }, inplace=True)"
   ]
  },
  {
   "cell_type": "code",
   "execution_count": 52,
   "metadata": {},
   "outputs": [],
   "source": [
    "df.rename(lambda c:c.lower().replace(' ', '_'), axis=1, inplace=True)"
   ]
  },
  {
   "cell_type": "code",
   "execution_count": 53,
   "metadata": {},
   "outputs": [
    {
     "data": {
      "text/html": [
       "<div>\n",
       "<style scoped>\n",
       "    .dataframe tbody tr th:only-of-type {\n",
       "        vertical-align: middle;\n",
       "    }\n",
       "\n",
       "    .dataframe tbody tr th {\n",
       "        vertical-align: top;\n",
       "    }\n",
       "\n",
       "    .dataframe thead th {\n",
       "        text-align: right;\n",
       "    }\n",
       "</style>\n",
       "<table border=\"1\" class=\"dataframe\">\n",
       "  <thead>\n",
       "    <tr style=\"text-align: right;\">\n",
       "      <th></th>\n",
       "      <th>name</th>\n",
       "      <th>class_type</th>\n",
       "      <th>quiz_1</th>\n",
       "      <th>quiz_2</th>\n",
       "      <th>quiz_3</th>\n",
       "      <th>quiz_4</th>\n",
       "      <th>quiz_5</th>\n",
       "      <th>average</th>\n",
       "    </tr>\n",
       "  </thead>\n",
       "  <tbody>\n",
       "    <tr>\n",
       "      <th>0</th>\n",
       "      <td>Student A</td>\n",
       "      <td>Standard</td>\n",
       "      <td>92</td>\n",
       "      <td>54</td>\n",
       "      <td>88</td>\n",
       "      <td>56</td>\n",
       "      <td>100</td>\n",
       "      <td>78.0</td>\n",
       "    </tr>\n",
       "    <tr>\n",
       "      <th>1</th>\n",
       "      <td>Student B</td>\n",
       "      <td>Pre-AP</td>\n",
       "      <td>65</td>\n",
       "      <td>87</td>\n",
       "      <td>67</td>\n",
       "      <td>98</td>\n",
       "      <td>100</td>\n",
       "      <td>83.4</td>\n",
       "    </tr>\n",
       "    <tr>\n",
       "      <th>2</th>\n",
       "      <td>Student C</td>\n",
       "      <td>Standard</td>\n",
       "      <td>82</td>\n",
       "      <td>84</td>\n",
       "      <td>58</td>\n",
       "      <td>6</td>\n",
       "      <td>100</td>\n",
       "      <td>66.0</td>\n",
       "    </tr>\n",
       "    <tr>\n",
       "      <th>3</th>\n",
       "      <td>Student D</td>\n",
       "      <td>Pre-AP</td>\n",
       "      <td>99</td>\n",
       "      <td>99</td>\n",
       "      <td>99</td>\n",
       "      <td>99</td>\n",
       "      <td>100</td>\n",
       "      <td>99.2</td>\n",
       "    </tr>\n",
       "    <tr>\n",
       "      <th>4</th>\n",
       "      <td>Student E</td>\n",
       "      <td>Standard</td>\n",
       "      <td>100</td>\n",
       "      <td>100</td>\n",
       "      <td>100</td>\n",
       "      <td>100</td>\n",
       "      <td>100</td>\n",
       "      <td>100.0</td>\n",
       "    </tr>\n",
       "    <tr>\n",
       "      <th>5</th>\n",
       "      <td>Student F</td>\n",
       "      <td>AP</td>\n",
       "      <td>75</td>\n",
       "      <td>79</td>\n",
       "      <td>83</td>\n",
       "      <td>81</td>\n",
       "      <td>100</td>\n",
       "      <td>83.6</td>\n",
       "    </tr>\n",
       "    <tr>\n",
       "      <th>6</th>\n",
       "      <td>Student G</td>\n",
       "      <td>AP</td>\n",
       "      <td>100</td>\n",
       "      <td>100</td>\n",
       "      <td>83</td>\n",
       "      <td>81</td>\n",
       "      <td>100</td>\n",
       "      <td>92.8</td>\n",
       "    </tr>\n",
       "  </tbody>\n",
       "</table>\n",
       "</div>"
      ],
      "text/plain": [
       "        name class_type  quiz_1  quiz_2  quiz_3  quiz_4  quiz_5  average\n",
       "0  Student A   Standard      92      54      88      56     100     78.0\n",
       "1  Student B     Pre-AP      65      87      67      98     100     83.4\n",
       "2  Student C   Standard      82      84      58       6     100     66.0\n",
       "3  Student D     Pre-AP      99      99      99      99     100     99.2\n",
       "4  Student E   Standard     100     100     100     100     100    100.0\n",
       "5  Student F         AP      75      79      83      81     100     83.6\n",
       "6  Student G         AP     100     100      83      81     100     92.8"
      ]
     },
     "execution_count": 53,
     "metadata": {},
     "output_type": "execute_result"
    }
   ],
   "source": [
    "df"
   ]
  },
  {
   "cell_type": "code",
   "execution_count": null,
   "metadata": {},
   "outputs": [],
   "source": []
  },
  {
   "cell_type": "code",
   "execution_count": 54,
   "metadata": {},
   "outputs": [
    {
     "data": {
      "text/plain": [
       "0    Standard\n",
       "1      Pre-AP\n",
       "2    Standard\n",
       "3      Pre-AP\n",
       "4    Standard\n",
       "5          AP\n",
       "6          AP\n",
       "Name: class_type, dtype: object"
      ]
     },
     "execution_count": 54,
     "metadata": {},
     "output_type": "execute_result"
    }
   ],
   "source": [
    "df.class_type"
   ]
  },
  {
   "cell_type": "markdown",
   "metadata": {},
   "source": [
    "### Interate over dataframe"
   ]
  },
  {
   "cell_type": "code",
   "execution_count": 55,
   "metadata": {},
   "outputs": [
    {
     "name": "stdout",
     "output_type": "stream",
     "text": [
      "name\n",
      "class_type\n",
      "quiz_1\n",
      "quiz_2\n",
      "quiz_3\n",
      "quiz_4\n",
      "quiz_5\n",
      "average\n"
     ]
    }
   ],
   "source": [
    "for i in df:\n",
    "    print(i)"
   ]
  },
  {
   "cell_type": "code",
   "execution_count": 56,
   "metadata": {},
   "outputs": [
    {
     "data": {
      "text/plain": [
       "<generator object DataFrame.iterrows at 0x00000229215640B0>"
      ]
     },
     "execution_count": 56,
     "metadata": {},
     "output_type": "execute_result"
    }
   ],
   "source": [
    "df.iterrows()"
   ]
  },
  {
   "cell_type": "code",
   "execution_count": 57,
   "metadata": {},
   "outputs": [
    {
     "name": "stdout",
     "output_type": "stream",
     "text": [
      "0 Standard 78.0\n",
      "1 Pre-AP 83.4\n",
      "2 Standard 66.0\n",
      "3 Pre-AP 99.2\n",
      "4 Standard 100.0\n",
      "5 AP 83.6\n",
      "6 AP 92.8\n"
     ]
    }
   ],
   "source": [
    "for idx, row in df.iterrows():\n",
    "    print(idx, row['class_type'], row.average)"
   ]
  },
  {
   "cell_type": "markdown",
   "metadata": {},
   "source": [
    "### Save to CSV file"
   ]
  },
  {
   "cell_type": "code",
   "execution_count": 58,
   "metadata": {},
   "outputs": [],
   "source": [
    "# df.to_csv('new_data.csv')\n",
    "df.to_csv('new_data.csv', index=False)"
   ]
  },
  {
   "cell_type": "markdown",
   "metadata": {},
   "source": [
    "### Load data from CSV file into Jupyter Notebook as a Pandas dataframe"
   ]
  },
  {
   "cell_type": "code",
   "execution_count": 59,
   "metadata": {},
   "outputs": [
    {
     "data": {
      "text/html": [
       "<div>\n",
       "<style scoped>\n",
       "    .dataframe tbody tr th:only-of-type {\n",
       "        vertical-align: middle;\n",
       "    }\n",
       "\n",
       "    .dataframe tbody tr th {\n",
       "        vertical-align: top;\n",
       "    }\n",
       "\n",
       "    .dataframe thead th {\n",
       "        text-align: right;\n",
       "    }\n",
       "</style>\n",
       "<table border=\"1\" class=\"dataframe\">\n",
       "  <thead>\n",
       "    <tr style=\"text-align: right;\">\n",
       "      <th></th>\n",
       "      <th>name</th>\n",
       "      <th>class_type</th>\n",
       "      <th>quiz_1</th>\n",
       "      <th>quiz_2</th>\n",
       "      <th>quiz_3</th>\n",
       "      <th>quiz_4</th>\n",
       "      <th>quiz_5</th>\n",
       "      <th>average</th>\n",
       "    </tr>\n",
       "  </thead>\n",
       "  <tbody>\n",
       "    <tr>\n",
       "      <th>0</th>\n",
       "      <td>Student A</td>\n",
       "      <td>Standard</td>\n",
       "      <td>92</td>\n",
       "      <td>54</td>\n",
       "      <td>88</td>\n",
       "      <td>56</td>\n",
       "      <td>100</td>\n",
       "      <td>78.0</td>\n",
       "    </tr>\n",
       "    <tr>\n",
       "      <th>1</th>\n",
       "      <td>Student B</td>\n",
       "      <td>Pre-AP</td>\n",
       "      <td>65</td>\n",
       "      <td>87</td>\n",
       "      <td>67</td>\n",
       "      <td>98</td>\n",
       "      <td>100</td>\n",
       "      <td>83.4</td>\n",
       "    </tr>\n",
       "    <tr>\n",
       "      <th>2</th>\n",
       "      <td>Student C</td>\n",
       "      <td>Standard</td>\n",
       "      <td>82</td>\n",
       "      <td>84</td>\n",
       "      <td>58</td>\n",
       "      <td>6</td>\n",
       "      <td>100</td>\n",
       "      <td>66.0</td>\n",
       "    </tr>\n",
       "    <tr>\n",
       "      <th>3</th>\n",
       "      <td>Student D</td>\n",
       "      <td>Pre-AP</td>\n",
       "      <td>99</td>\n",
       "      <td>99</td>\n",
       "      <td>99</td>\n",
       "      <td>99</td>\n",
       "      <td>100</td>\n",
       "      <td>99.2</td>\n",
       "    </tr>\n",
       "    <tr>\n",
       "      <th>4</th>\n",
       "      <td>Student E</td>\n",
       "      <td>Standard</td>\n",
       "      <td>100</td>\n",
       "      <td>100</td>\n",
       "      <td>100</td>\n",
       "      <td>100</td>\n",
       "      <td>100</td>\n",
       "      <td>100.0</td>\n",
       "    </tr>\n",
       "    <tr>\n",
       "      <th>5</th>\n",
       "      <td>Student F</td>\n",
       "      <td>AP</td>\n",
       "      <td>75</td>\n",
       "      <td>79</td>\n",
       "      <td>83</td>\n",
       "      <td>81</td>\n",
       "      <td>100</td>\n",
       "      <td>83.6</td>\n",
       "    </tr>\n",
       "    <tr>\n",
       "      <th>6</th>\n",
       "      <td>Student G</td>\n",
       "      <td>AP</td>\n",
       "      <td>100</td>\n",
       "      <td>100</td>\n",
       "      <td>83</td>\n",
       "      <td>81</td>\n",
       "      <td>100</td>\n",
       "      <td>92.8</td>\n",
       "    </tr>\n",
       "  </tbody>\n",
       "</table>\n",
       "</div>"
      ],
      "text/plain": [
       "        name class_type  quiz_1  quiz_2  quiz_3  quiz_4  quiz_5  average\n",
       "0  Student A   Standard      92      54      88      56     100     78.0\n",
       "1  Student B     Pre-AP      65      87      67      98     100     83.4\n",
       "2  Student C   Standard      82      84      58       6     100     66.0\n",
       "3  Student D     Pre-AP      99      99      99      99     100     99.2\n",
       "4  Student E   Standard     100     100     100     100     100    100.0\n",
       "5  Student F         AP      75      79      83      81     100     83.6\n",
       "6  Student G         AP     100     100      83      81     100     92.8"
      ]
     },
     "execution_count": 59,
     "metadata": {},
     "output_type": "execute_result"
    }
   ],
   "source": [
    "new_df = pd.read_csv('new_data.csv')\n",
    "new_df"
   ]
  },
  {
   "cell_type": "code",
   "execution_count": null,
   "metadata": {},
   "outputs": [],
   "source": []
  },
  {
   "cell_type": "code",
   "execution_count": null,
   "metadata": {},
   "outputs": [],
   "source": []
  },
  {
   "cell_type": "code",
   "execution_count": 60,
   "metadata": {},
   "outputs": [
    {
     "data": {
      "text/plain": [
       "0   0 days\n",
       "1   1 days\n",
       "2   2 days\n",
       "3   3 days\n",
       "4   4 days\n",
       "dtype: timedelta64[ns]"
      ]
     },
     "execution_count": 60,
     "metadata": {},
     "output_type": "execute_result"
    }
   ],
   "source": [
    "s = pd.Series(pd.to_timedelta(np.arange(5), unit='d'))\n",
    "s"
   ]
  },
  {
   "cell_type": "code",
   "execution_count": 61,
   "metadata": {},
   "outputs": [
    {
     "data": {
      "text/plain": [
       "0         0.0\n",
       "1     86400.0\n",
       "2    172800.0\n",
       "3    259200.0\n",
       "4    345600.0\n",
       "dtype: float64"
      ]
     },
     "execution_count": 61,
     "metadata": {},
     "output_type": "execute_result"
    }
   ],
   "source": [
    "s.dt.total_seconds()"
   ]
  },
  {
   "cell_type": "code",
   "execution_count": null,
   "metadata": {},
   "outputs": [],
   "source": []
  }
 ],
 "metadata": {
  "kernelspec": {
   "display_name": "Python 3 (ipykernel)",
   "language": "python",
   "name": "python3"
  },
  "language_info": {
   "codemirror_mode": {
    "name": "ipython",
    "version": 3
   },
   "file_extension": ".py",
   "mimetype": "text/x-python",
   "name": "python",
   "nbconvert_exporter": "python",
   "pygments_lexer": "ipython3",
   "version": "3.9.7"
  }
 },
 "nbformat": 4,
 "nbformat_minor": 2
}
